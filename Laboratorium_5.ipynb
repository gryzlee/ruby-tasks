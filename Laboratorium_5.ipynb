{
 "metadata": {
  "language": "ruby",
  "name": "",
  "signature": "sha256:a805b4dc6bdaceeb774435350a58ec61f9603fbb24672b16665a15d0e514343e"
 },
 "nbformat": 3,
 "nbformat_minor": 0,
 "worksheets": [
  {
   "cells": [
    {
     "cell_type": "heading",
     "level": 1,
     "metadata": {},
     "source": [
      "Zapytania z\u0142o\u017cone"
     ]
    },
    {
     "cell_type": "markdown",
     "metadata": {},
     "source": [
      "Przed rozpocz\u0119ciem pracy konieczne jest skonfigurowanie bazy oraz za\u0142adowanie danych:\n",
      "```ruby\n",
      "$:.unshift \".\"\n",
      "require 'db_setup'\n",
      "require 'db_load'\n",
      "```"
     ]
    },
    {
     "cell_type": "code",
     "collapsed": false,
     "input": [
      "$:.unshift \".\"\n",
      "require 'db_setup'\n",
      "require 'db_load'"
     ],
     "language": "python",
     "metadata": {},
     "outputs": [
      {
       "output_type": "stream",
       "stream": "stdout",
       "text": [
        "==  AddIndicesMigration: migrating ============================================\n"
       ]
      },
      {
       "output_type": "stream",
       "stream": "stdout",
       "text": [
        "==  AddIndicesMigration: migrated (0.0000s) ===================================\n"
       ]
      },
      {
       "output_type": "stream",
       "stream": "stdout",
       "text": [
        "\n"
       ]
      },
      {
       "metadata": {},
       "output_type": "pyout",
       "prompt_number": 2,
       "text": [
        "true"
       ]
      }
     ],
     "prompt_number": 2
    },
    {
     "cell_type": "markdown",
     "metadata": {},
     "source": [
      "W dalszych zadaniach b\u0119dzie wykonywa\u0107 polecenia korzystaj\u0105c z nast\u0119puj\u0105cych klas, zmapowanych na odpowiadaj\u0105ce im \n",
      "table w bazie danych:\n",
      "```ruby\n",
      "class Author < ActiveRecord::Base\n",
      "  # name      (string)\n",
      "  # surname   (string)\n",
      "  # born      (datetime) \n",
      "  # died      (datetime)\n",
      "  # image_url (string)\n",
      "  \n",
      "  has_many :books\n",
      "end\n",
      "\n",
      "class Book < ActiveRecord::Base\n",
      "  # title     (string)\n",
      "  # author    (Author)\n",
      "  # published (integer)\n",
      "\n",
      "  belongs_to :author\n",
      "end\n",
      "```"
     ]
    },
    {
     "cell_type": "markdown",
     "metadata": {},
     "source": [
      "ActiveRecord udost\u0119pnia interfejs pozwalaj\u0105cy wyszukiwa\u0107 dane w bazie r\u00f3wnie\u017c z wykorzystaniem zwi\u0105zk\u00f3w zdefiniowanych pomi\u0119dzy\n",
      "klasami. Do definiowania tych zwi\u0105zk\u00f3w s\u0142u\u017c\u0105 polecenia `has_many`, `belongs_to`, `has_one` oraz `has_and_belongs_to_many`.\n",
      "Przyk\u0142adowo je\u015bli chcemy dowiedzie\u0107 si\u0119 kto by\u0142 autorem pierwszej ksi\u0105\u017cki wykonujemy zapytanie:\n",
      "```ruby\n",
      "book = Book.first\n",
      "puts book.title\n",
      "puts book.author\n",
      "```"
     ]
    },
    {
     "cell_type": "code",
     "collapsed": false,
     "input": [
      "book = Book.first\n",
      "puts book.title\n",
      "puts book.author"
     ],
     "language": "python",
     "metadata": {},
     "outputs": [
      {
       "output_type": "stream",
       "stream": "stdout",
       "text": [
        "V\u00e9gj\u00e1t\u00e9k (reg\u00e9ny)\n"
       ]
      },
      {
       "output_type": "stream",
       "stream": "stdout",
       "text": [
        "#<Author:0x00000004940760>\n"
       ]
      }
     ],
     "prompt_number": 19
    },
    {
     "cell_type": "markdown",
     "metadata": {},
     "source": [
      "Niestety prezentowany wynik nie jest zbyt u\u017cyteczny. Poniewa\u017c jednak metoda `author` zwraca obiekt, mo\u017cemy na nim wywo\u0142ywa\u0107 \n",
      "metody - tak samo jak w przypadku autora za\u0142adowanego bezpo\u015brednio z wykorzystaniem metod zdefiniowanych dla klasy `Author`\n",
      "```ruby\n",
      "book = Book.first\n",
      "puts book.title\n",
      "puts \"#{book.author.name} #{book.author.surname}\"\n",
      "```"
     ]
    },
    {
     "cell_type": "code",
     "collapsed": false,
     "input": [
      "book = Book.first\n",
      "puts book.title\n",
      "puts \"#{book.author.name} #{book.author.surname}\""
     ],
     "language": "python",
     "metadata": {},
     "outputs": [
      {
       "output_type": "stream",
       "stream": "stdout",
       "text": [
        "V\u00e9gj\u00e1t\u00e9k (reg\u00e9ny)\n"
       ]
      },
      {
       "output_type": "stream",
       "stream": "stdout",
       "text": [
        "Orson Scott Card\n"
       ]
      }
     ],
     "prompt_number": 3
    },
    {
     "cell_type": "markdown",
     "metadata": {},
     "source": [
      "Co wi\u0119cej, je\u015bli mamy do czynienia ze zwi\u0105zkiem jeden-do-wiele b\u0105d\u017a wiele-do-wiele, mo\u017cemy wywy\u0142ywa\u0107 wszystkie dotychczas poznane \n",
      "metody na kolekcji powi\u0105zanych obiekt\u00f3w. Istotnie u\u0142atwia to wyszukiwanie potrzebnych danych:\n",
      "```ruby\n",
      "books = Book.where(\"title like 'A%'\")\n",
      "books.each do |book|\n",
      "  puts book.title\n",
      "end\n",
      "\n",
      "author = Author.where(surname: \"To\u0142stoj\").first\n",
      "books = author.books.where(\"title like 'A%'\")\n",
      "books.each do |book|\n",
      "  puts book.title\n",
      "end\n",
      "```"
     ]
    },
    {
     "cell_type": "code",
     "collapsed": false,
     "input": [
      "books = Book.where(\"title like 'A%'\")\n",
      "books.each do |book|\n",
      "  puts book.title\n",
      "end\n",
      "\n",
      "author = Author.where(surname: \"To\u0142stoj\").first\n",
      "books = author.books.where(\"title like 'A%'\")\n",
      "books.each do |book|\n",
      "  puts book.title\n",
      "end"
     ],
     "language": "python",
     "metadata": {},
     "outputs": [
      {
       "output_type": "stream",
       "stream": "stdout",
       "text": [
        "Anna Karenina\n"
       ]
      },
      {
       "output_type": "stream",
       "stream": "stdout",
       "text": [
        "Azazel (powie\u015b\u0107)\n"
       ]
      },
      {
       "output_type": "stream",
       "stream": "stdout",
       "text": [
        "Anna Karenina\n"
       ]
      },
      {
       "metadata": {},
       "output_type": "pyout",
       "prompt_number": 4,
       "text": [
        "[#<Book id: 33, title: \"Anna Karenina\", language: nil, author_id: 27, published: 1877, image_url: \"http://commons.wikimedia.org/wiki/Special:FilePath...\">]"
       ]
      }
     ],
     "prompt_number": 4
    },
    {
     "cell_type": "markdown",
     "metadata": {},
     "source": [
      "R\u00f3\u017cnica pomi\u0119dzy tymi zapytaniami polega na tym, \u017ce w pierwszym przypadku szukamy ksi\u0105\u017cki, kt\u00f3rych tytu\u0142 zaczyna si\u0119 na \"A\" \n",
      "w ca\u0142ym zbiorze ksi\u0105\u017cek, a w drugi przypadku w\u015br\u00f3d ksi\u0105\u017cek napisanych przez To\u0142stoja."
     ]
    },
    {
     "cell_type": "markdown",
     "metadata": {},
     "source": [
      "Aby umo\u017cliwi\u0107 formatowanie wynik\u00f3w zapytania, IRuby udost\u0119pnia metod\u0119 `IRuby.html`, kt\u00f3ra pozwala na wy\u015bwietlanie kodu\n",
      "HTML. Przyk\u0142adowo\n",
      "```ruby\n",
      "IRuby.html \"<h1>Test HTML-a</h1>\"\n",
      "```"
     ]
    },
    {
     "cell_type": "code",
     "collapsed": false,
     "input": [
      "IRuby.html \"<h1>Test HTML-a</h1>\""
     ],
     "language": "python",
     "metadata": {},
     "outputs": [
      {
       "html": [
        "<h1>Test HTML-a</h1>"
       ],
       "metadata": {},
       "output_type": "pyout",
       "prompt_number": 5,
       "text": [
        "\"<h1>Test HTML-a</h1>\""
       ]
      }
     ],
     "prompt_number": 5
    },
    {
     "cell_type": "markdown",
     "metadata": {},
     "source": [
      "Dzi\u0119ki temu b\u0119dziemy mogli formatowa\u0107 wyniki zapyta\u0144, a wszczeg\u00f3lno\u015bci wy\u015bwietla\u0107 obrazy przedstwiaj\u0105ce autor\u00f3w oraz ksi\u0105\u017cki. \n",
      "Nale\u017cy jednak wzi\u0105\u0107 pod uwag\u0119, \u017ce nie wszystkie ksi\u0105\u017cki oraz nie wszyscy autorzy posiadaj\u0105 odpowiadaj\u0105ce im obrazki.\n",
      "Aby wy\u015bwietli\u0107 imi\u0119, nazwisko oraz obraz pierwszego autora piszemy:\n",
      "```ruby\n",
      "author = Author.where(\"image_url is not null\").first\n",
      "IRuby.html \"<h1>#{author.name} #{author.surname}</h1><img src='#{author.image_url}'/>\"\n",
      "```"
     ]
    },
    {
     "cell_type": "code",
     "collapsed": false,
     "input": [
      "author = Author.where(\"image_url is not null\").first\n",
      "IRuby.html \"<h1>#{author.name} #{author.surname}</h1><img src='#{author.image_url}'/>\""
     ],
     "language": "python",
     "metadata": {},
     "outputs": [
      {
       "html": [
        "<h1>Orson Scott Card</h1><img src='http://commons.wikimedia.org/wiki/Special:FilePath/Orson_Scott_Card_at_BYU_Symposium_20080216_closeup.jpg?width=300'/>"
       ],
       "metadata": {},
       "output_type": "pyout",
       "prompt_number": 6,
       "text": [
        "\"<h1>Orson Scott Card</h1><img src='http://commons.wikimedia.org/wiki/Special:FilePath/Orson_Scott_Card_at_BYU_Symposium_20080216_closeup.jpg?width=300'/>\""
       ]
      }
     ],
     "prompt_number": 6
    },
    {
     "cell_type": "markdown",
     "metadata": {},
     "source": [
      "Mo\u017cemy r\u00f3wnie\u017c zdefniowa\u0107 funkcj\u0119, np. `display_author`, kt\u00f3rej zadaniem b\u0119dzie wy\u015bwietlenie autora w tej postaci. \n",
      "Jedyny problem polega na tym, \u017ce funkcja `IRuby.html` mo\u017ce by\u0107 wywo\u0142ywana tylko raz. Dlatego je\u015bli chcemy wy\u015bwietli\u0107 kilku autor\u00f3w,\n",
      "musimy po\u0142\u0105czy\u0107 odpowiadaj\u0105ce im kody HTML i wynik przekaza\u0107 do funkcji `html`\n",
      "```ruby\n",
      "def display_author(author)\n",
      "  \"<h1>#{author.name} #{author.surname}</h1><img src='#{author.image_url}'/>\"\n",
      "end\n",
      "\n",
      "author_1 = Author.where(\"image_url is not null\").first\n",
      "author_2 = Author.where(\"image_url is not null\").offset(1).first\n",
      "document = display_author(author_1)\n",
      "document += display_author(author_2)\n",
      "IRuby.html document\n",
      "```"
     ]
    },
    {
     "cell_type": "code",
     "collapsed": false,
     "input": [
      "def display_author(author)\n",
      "  \"<h1>#{author.name} #{author.surname}</h1><img src='#{author.image_url}'/>\"\n",
      "end\n",
      "\n",
      "author_1 = Author.where(\"image_url is not null\").first\n",
      "author_2 = Author.where(\"image_url is not null\").offset(1).first\n",
      "document = display_author(author_1)\n",
      "document += display_author(author_2)\n",
      "IRuby.html document"
     ],
     "language": "python",
     "metadata": {},
     "outputs": [
      {
       "html": [
        "<h1>Orson Scott Card</h1><img src='http://commons.wikimedia.org/wiki/Special:FilePath/Orson_Scott_Card_at_BYU_Symposium_20080216_closeup.jpg?width=300'/><h1>Andrzej Sapkowski</h1><img src='http://commons.wikimedia.org/wiki/Special:FilePath/Sapkowski.jpg?width=300'/>"
       ],
       "metadata": {},
       "output_type": "pyout",
       "prompt_number": 7,
       "text": [
        "\"<h1>Orson Scott Card</h1><img src='http://commons.wikimedia.org/wiki/Special:FilePath/Orson_Scott_Card_at_BYU_Symposium_20080216_closeup.jpg?width=300'/><h1>Andrzej Sapkowski</h1><img src='http://commons.wikimedia.org/wiki/Special:FilePath/Sapkowski.jpg?width=300'/>\""
       ]
      }
     ],
     "prompt_number": 7
    },
    {
     "cell_type": "heading",
     "level": 2,
     "metadata": {},
     "source": [
      "Zadania"
     ]
    },
    {
     "cell_type": "heading",
     "level": 3,
     "metadata": {},
     "source": [
      "Zadanie 1"
     ]
    },
    {
     "cell_type": "markdown",
     "metadata": {},
     "source": [
      "Wy\u015bwietl wszystkich autor\u00f3w, kt\u00f3rzy urodzili si\u0119 przed rokiem 1900."
     ]
    },
    {
     "cell_type": "code",
     "collapsed": false,
     "input": [
      "def display_author(author)\n",
      "  \"<h1>#{author.name} #{author.surname}</h1>\"\n",
      "end\n",
      "\n",
      "document = \"\"\n",
      "Author.where(\"born < ?\", Date.parse(\"1900/01/01\")).each do |author|\n",
      "  document += display_author(author)\n",
      "end\n",
      "IRuby.html document"
     ],
     "language": "python",
     "metadata": {},
     "outputs": [
      {
       "html": [
        "<h1>Jack London</h1><h1>Miko\u0142aj Kopernik</h1><h1>Maria Franciszka Koz\u0142owska</h1><h1>William Szekspir</h1><h1>John Ronald Reuel Tolkien</h1><h1>Aleksander Dumas (ojciec)</h1><h1>Tadeusz Do\u0142\u0119ga-Mostowicz</h1><h1>Henryk Sienkiewicz</h1><h1>Vladimir Nabokov</h1><h1>Adolf Hitler</h1><h1>Eliza Orzeszkowa</h1><h1>Benedykt Chmielowski</h1><h1>Aldous Huxley</h1><h1>Honor\u00e9 de Balzac</h1><h1>Franz Kafka</h1><h1>Howard Phillips Lovecraft</h1><h1>Lew To\u0142stoj</h1><h1>Ilja Ilf</h1><h1>Gabriela Zapolska</h1><h1>Clive Staples Lewis</h1><h1>Adam Mickiewicz</h1><h1>Iwan Turgieniew</h1><h1>Lucy Maud Montgomery</h1><h1>Aleksander Majkowski</h1>"
       ],
       "metadata": {},
       "output_type": "pyout",
       "prompt_number": 9,
       "text": [
        "\"<h1>Jack London</h1><h1>Miko\u0142aj Kopernik</h1><h1>Maria Franciszka Koz\u0142owska</h1><h1>William Szekspir</h1><h1>John Ronald Reuel Tolkien</h1><h1>Aleksander Dumas (ojciec)</h1><h1>Tadeusz Do\u0142\u0119ga-Mostowicz</h1><h1>Henryk Sienkiewicz</h1><h1>Vladimir Nabokov</h1><h1>Adolf Hitler</h1><h1>Eliza Orzeszkowa</h1><h1>Benedykt Chmielowski</h1><h1>Aldous Huxley</h1><h1>Honor\u00e9 de Balzac</h1><h1>Franz Kafka</h1><h1>Howard Phillips Lovecraft</h1><h1>Lew To\u0142stoj</h1><h1>Ilja Ilf</h1><h1>Gabriela Zapolska</h1><h1>Clive Staples Lewis</h1><h1>Adam Mickiewicz</h1><h1>Iwan Turgieniew</h1><h1>Lucy Maud Montgomery</h1><h1>Aleksander Majkowski</h1>\""
       ]
      }
     ],
     "prompt_number": 9
    },
    {
     "cell_type": "heading",
     "level": 3,
     "metadata": {},
     "source": [
      "Zadanie 2"
     ]
    },
    {
     "cell_type": "markdown",
     "metadata": {},
     "source": [
      "Zmodyfikuj funkcj\u0119 wy\u015bwietlaj\u0105c\u0105 autor\u00f3w tak aby obejmowa\u0142a ich dat\u0119 urodzin i \u015bmierci w formacie `dzie\u0144.miesi\u0105c.rok`. Nast\u0119pnie wy\u015bwietl wszystkich autor\u00f3w,\n",
      "kt\u00f3rzy zmarli w XX wieku."
     ]
    },
    {
     "cell_type": "code",
     "collapsed": false,
     "input": [
      "def display_author(author)\n",
      "  born = author.born\n",
      "  born = born.strftime(\"%d.%m.%Y\") if born\n",
      "  died = author.died\n",
      "  died = died.strftime(\"%d.%m.%Y\") if died\n",
      "  \"<h1>#{author.name} #{author.surname} #{born} #{died} </h1>\"\n",
      "end\n",
      "document = \"\"\n",
      "\n",
      "\n",
      "Author.where(died: (Date.parse(\"1/1/1901\").. Date.parse(\"1/1/2001\"))).each do |author|\n",
      "  document += display_author(author)\n",
      "end\n",
      "IRuby.html document"
     ],
     "language": "python",
     "metadata": {},
     "outputs": [
      {
       "html": [
        "<h1>Jack London 12.01.1876 22.11.1916 </h1><h1>Antoni Go\u0142ubiew 25.02.1907 27.06.1979 </h1><h1>George Orwell 25.06.1903 21.01.1950 </h1><h1>John Ronald Reuel Tolkien 03.01.1892 02.09.1973 </h1><h1>Tadeusz Do\u0142\u0119ga-Mostowicz 10.08.1898 20.09.1939 </h1><h1>Henryk Sienkiewicz 05.05.1846 15.11.1916 </h1><h1>Vladimir Nabokov 22.04.1899 02.07.1977 </h1><h1>Adolf Hitler 20.04.1889 30.04.1945 </h1><h1>Eliza Orzeszkowa 06.06.1841 18.05.1910 </h1><h1>Aldous Huxley 26.07.1894 22.11.1963 </h1><h1>Franz Kafka 03.07.1883 03.06.1924 </h1><h1>Howard Phillips Lovecraft 20.08.1890 15.03.1937 </h1><h1>Karol Olgierd Borchardt 25.03.1905 20.05.1986 </h1><h1>Lew To\u0142stoj 09.09.1828 20.11.1910 </h1><h1>Janusz Zajdel 15.08.1938 19.07.1985 </h1><h1>Isaac Asimov 04.10.1919 06.04.1992 </h1><h1>Ilja Ilf 15.10.1897 13.04.1937 </h1><h1>Jewgienij Pietrow (pisarz) 13.12.1903 02.07.1942 </h1><h1>Gabriela Zapolska 30.03.1857 17.12.1921 </h1><h1>Clive Staples Lewis 29.11.1898 22.11.1963 </h1><h1>Lucy Maud Montgomery 30.11.1874 24.04.1942 </h1><h1>Alfred Szklarski 21.01.1912 09.04.1992 </h1><h1>Aleksander Majkowski 17.07.1876 10.02.1938 </h1><h1>Ian Fleming 28.05.1908 12.08.1964 </h1>"
       ],
       "metadata": {},
       "output_type": "pyout",
       "prompt_number": 70,
       "text": [
        "\"<h1>Jack London 12.01.1876 22.11.1916 </h1><h1>Antoni Go\u0142ubiew 25.02.1907 27.06.1979 </h1><h1>George Orwell 25.06.1903 21.01.1950 </h1><h1>John Ronald Reuel Tolkien 03.01.1892 02.09.1973 </h1><h1>Tadeusz Do\u0142\u0119ga-Mostowicz 10.08.1898 20.09.1939 </h1><h1>Henryk Sienkiewicz 05.05.1846 15.11.1916 </h1><h1>Vladimir Nabokov 22.04.1899 02.07.1977 </h1><h1>Adolf Hitler 20.04.1889 30.04.1945 </h1><h1>Eliza Orzeszkowa 06.06.1841 18.05.1910 </h1><h1>Aldous Huxley 26.07.1894 22.11.1963 </h1><h1>Franz Kafka 03.07.1883 03.06.1924 </h1><h1>Howard Phillips Lovecraft 20.08.1890 15.03.1937 </h1><h1>Karol Olgierd Borchardt 25.03.1905 20.05.1986 </h1><h1>Lew To\u0142stoj 09.09.1828 20.11.1910 </h1><h1>Janusz Zajdel 15.08.1938 19.07.1985 </h1><h1>Isaac Asimov 04.10.1919 06.04.1992 </h1><h1>Ilja Ilf 15.10.1897 13.04.1937 </h1><h1>Jewgienij Pietrow (pisarz) 13.12.1903 02.07.1942 </h1><h1>Gabriela Zapolska 30.03.1857 17.12.1921 </h1><h1>Clive Staples Lewis 29.11.1898 22.11.1963 </h1><h1>Lucy Maud Montgomery 30.11.1874 24.04.1942 </h1><h1>Alfred Szklarski 21.01.1912 09.04.1992 </h1><h1>Aleksander Majkowski 17.07.1876 10.02.1938 </h1><h1>Ian Fleming 28.05.1908 12.08.1964 </h1>\""
       ]
      }
     ],
     "prompt_number": 70
    },
    {
     "cell_type": "heading",
     "level": 3,
     "metadata": {},
     "source": [
      "Zadanie 3"
     ]
    },
    {
     "cell_type": "markdown",
     "metadata": {},
     "source": [
      "Wy\u015bwietl 5 najm\u0142odszych autor\u00f3w, kt\u00f3rzy posiadaj\u0105 przypisane zdj\u0119cie."
     ]
    },
    {
     "cell_type": "code",
     "collapsed": false,
     "input": [
      "def display_author(author)\n",
      "  \"<h1>#{author.name} #{author.surname} </h1>\"\n",
      "end\n",
      "  \n",
      "document = \"\"\n",
      "\n",
      "Author.where(\"image_url is not null\").order('born').last(5).each do |author|\n",
      "  document += display_author(author)\n",
      "end\n",
      "IRuby.html document"
     ],
     "language": "python",
     "metadata": {},
     "outputs": [
      {
       "html": [
        "<h1>Orson Scott Card </h1><h1>Boris Akunin </h1><h1>Rafa\u0142 A. Ziemkiewicz </h1><h1>J. K. Rowling </h1><h1>Andrzej Pilipiuk </h1>"
       ],
       "metadata": {},
       "output_type": "pyout",
       "prompt_number": 4,
       "text": [
        "\"<h1>Orson Scott Card </h1><h1>Boris Akunin </h1><h1>Rafa\u0142 A. Ziemkiewicz </h1><h1>J. K. Rowling </h1><h1>Andrzej Pilipiuk </h1>\""
       ]
      }
     ],
     "prompt_number": 4
    },
    {
     "cell_type": "heading",
     "level": 3,
     "metadata": {},
     "source": [
      "Zadanie 4"
     ]
    },
    {
     "cell_type": "markdown",
     "metadata": {},
     "source": [
      "Zdefiniuj funkcj\u0119 `display_book`, kt\u00f3ra b\u0119dzie zwraca\u0142a fragment kodu HTML obejmuj\u0105cy tytu\u0142 ksi\u0105\u017cki, rok jej wydania oraz\n",
      "przypisany obrazek.\n",
      "Wy\u015bwietl najwcze\u015bniej wydan\u0105 ksi\u0105\u017ck\u0119."
     ]
    },
    {
     "cell_type": "code",
     "collapsed": false,
     "input": [
      "def display_book(book)\n",
      "\"<h1>#{book.title} #{book.published}</h1><img src='#{book.image_url}'/>\"\n",
      "end\n",
      "\n",
      "document = \"\"\n",
      "\n",
      "book = Book.where(\"published is not null AND published > 0\").order(:published).first\n",
      "document += display_book(book)\n",
      "\n",
      "IRuby.html document"
     ],
     "language": "python",
     "metadata": {},
     "outputs": [
      {
       "html": [
        "<h1>De revolutionibus orbium coelestium 1543</h1><img src=''/>"
       ],
       "metadata": {},
       "output_type": "pyout",
       "prompt_number": 4,
       "text": [
        "\"<h1>De revolutionibus orbium coelestium 1543</h1><img src=''/>\""
       ]
      }
     ],
     "prompt_number": 4
    },
    {
     "cell_type": "code",
     "collapsed": false,
     "input": [],
     "language": "python",
     "metadata": {},
     "outputs": []
    },
    {
     "cell_type": "heading",
     "level": 3,
     "metadata": {},
     "source": [
      "Zadanie 5"
     ]
    },
    {
     "cell_type": "markdown",
     "metadata": {},
     "source": [
      "Wy\u015bwietl wszystkie ksi\u0105\u017cki, kt\u00f3re nie maj\u0105 przypisanego roku wydania."
     ]
    },
    {
     "cell_type": "code",
     "collapsed": false,
     "input": [
      "books = Book.where(\"published is null\")\n",
      "books.each do |book|\n",
      "document += display_book(book)\n",
      "end\n",
      "IRuby.html document"
     ],
     "language": "python",
     "metadata": {},
     "outputs": [
      {
       "html": [
        "<h1>De revolutionibus orbium coelestium 1543</h1><img src=''/><h1>V\u00e9gj\u00e1t\u00e9k (reg\u00e9ny) </h1><img src=''/><h1>Hamlet </h1><img src='http://commons.wikimedia.org/wiki/Special:FilePath/Hamlet_quarto_3rd.jpg?width=300'/>"
       ],
       "metadata": {},
       "output_type": "pyout",
       "prompt_number": 5,
       "text": [
        "\"<h1>De revolutionibus orbium coelestium 1543</h1><img src=''/><h1>V\u00e9gj\u00e1t\u00e9k (reg\u00e9ny) </h1><img src=''/><h1>Hamlet </h1><img src='http://commons.wikimedia.org/wiki/Special:FilePath/Hamlet_quarto_3rd.jpg?width=300'/>\""
       ]
      }
     ],
     "prompt_number": 5
    },
    {
     "cell_type": "heading",
     "level": 3,
     "metadata": {},
     "source": [
      "Zadanie 6"
     ]
    },
    {
     "cell_type": "markdown",
     "metadata": {},
     "source": [
      "Zmodyfikuj funkcj\u0119 `display_author` tak, aby wy\u015bwietla\u0142a r\u00f3wnie\u017c wszystkie ksi\u0105\u017cki napisane przez autora. U\u017cyj znacznika `<ul>`.\n",
      "Korzystaj\u0105c z tej funkcji wy\u015bwietl opis Stanis\u0142awa Lema."
     ]
    },
    {
     "cell_type": "code",
     "collapsed": false,
     "input": [
      "def display_book(book)\n",
      "\"<ul>#{book.title}</ul>\"\n",
      "end\n",
      "\n",
      "def display_author(author)\n",
      "  \"<h1>#{author.name} #{author.surname}</h1>\"\n",
      "end\n",
      "\n",
      "document = \"\"\n",
      "\n",
      "books = Author.where('surname = ?', \"Lem\").first.books\n",
      "document += display_author(author)\n",
      "\n",
      "author.books.each do |book|\n",
      "  document += display_book(book)\n",
      "end\n",
      "IRuby.html document"
     ],
     "language": "python",
     "metadata": {},
     "outputs": [
      {
       "html": [
        "<h1>Stanis\u0142aw Lem</h1><ul>Bajki robot\u00f3w</ul><ul>Solaris (powie\u015b\u0107)</ul><ul>Bezsenno\u015b\u0107 (zbi\u00f3r opowiada\u0144)</ul><ul>G\u0142os Pana</ul><ul>Inwazja z Aldebarana (zbi\u00f3r opowiada\u0144)</ul><ul>Katar (powie\u015b\u0107)</ul><ul>Ksi\u0119ga robot\u00f3w</ul><ul>Maska (zbi\u00f3r dzie\u0142)</ul><ul>Niezwyci\u0119\u017cony i inne opowiadania</ul><ul>Noc ksi\u0119\u017cycowa</ul><ul>Pami\u0119tnik znaleziony w wannie</ul><ul>Polowanie (zbi\u00f3r opowiada\u0144)</ul><ul>Powt\u00f3rka (zbi\u00f3r dzie\u0142)</ul><ul>Po\u017cytek ze smoka</ul><ul>Rasa drapie\u017cc\u00f3w. Teksty ostatnie</ul><ul>Sezam i inne opowiadania</ul><ul>Summa technologiae</ul><ul>Wizja lokalna (powie\u015b\u0107)</ul>"
       ],
       "metadata": {},
       "output_type": "pyout",
       "prompt_number": 6,
       "text": [
        "\"<h1>Stanis\u0142aw Lem</h1><ul>Bajki robot\u00f3w</ul><ul>Solaris (powie\u015b\u0107)</ul><ul>Bezsenno\u015b\u0107 (zbi\u00f3r opowiada\u0144)</ul><ul>G\u0142os Pana</ul><ul>Inwazja z Aldebarana (zbi\u00f3r opowiada\u0144)</ul><ul>Katar (powie\u015b\u0107)</ul><ul>Ksi\u0119ga robot\u00f3w</ul><ul>Maska (zbi\u00f3r dzie\u0142)</ul><ul>Niezwyci\u0119\u017cony i inne opowiadania</ul><ul>Noc ksi\u0119\u017cycowa</ul><ul>Pami\u0119tnik znaleziony w wannie</ul><ul>Polowanie (zbi\u00f3r opowiada\u0144)</ul><ul>Powt\u00f3rka (zbi\u00f3r dzie\u0142)</ul><ul>Po\u017cytek ze smoka</ul><ul>Rasa drapie\u017cc\u00f3w. Teksty ostatnie</ul><ul>Sezam i inne opowiadania</ul><ul>Summa technologiae</ul><ul>Wizja lokalna (powie\u015b\u0107)</ul>\""
       ]
      }
     ],
     "prompt_number": 6
    },
    {
     "cell_type": "heading",
     "level": 3,
     "metadata": {},
     "source": [
      "Zadanie 7"
     ]
    },
    {
     "cell_type": "markdown",
     "metadata": {},
     "source": [
      "W\u015br\u00f3d ksi\u0105\u017cek napisanych przez Lema wy\u015bwietl wszystkie, kt\u00f3re zawieraja w tytule s\u0142owo \"zbi\u00f3r\"."
     ]
    },
    {
     "cell_type": "code",
     "collapsed": false,
     "input": [
      "def display_book(book)\n",
      "\"<ul>#{book.title}</ul>\"\n",
      "end\n",
      "\n",
      "def display_author(author)\n",
      "  \"<h1>#{author.name} #{author.surname}</h1>\"\n",
      "end\n",
      "\n",
      "document = \"\"\n",
      "\n",
      "author = Author.where('surname = ?', \"Lem\").first\n",
      "document += display_author(author)\n",
      "\n",
      "author.books.where(\"title like '%zbi\u00f3r%'\").each do |book|\n",
      "  document += display_book(book)\n",
      "end\n",
      "IRuby.html document"
     ],
     "language": "python",
     "metadata": {},
     "outputs": [
      {
       "html": [
        "<h1>Stanis\u0142aw Lem</h1><ul>Bezsenno\u015b\u0107 (zbi\u00f3r opowiada\u0144)</ul><ul>Inwazja z Aldebarana (zbi\u00f3r opowiada\u0144)</ul><ul>Maska (zbi\u00f3r dzie\u0142)</ul><ul>Polowanie (zbi\u00f3r opowiada\u0144)</ul><ul>Powt\u00f3rka (zbi\u00f3r dzie\u0142)</ul>"
       ],
       "metadata": {},
       "output_type": "pyout",
       "prompt_number": 8,
       "text": [
        "\"<h1>Stanis\u0142aw Lem</h1><ul>Bezsenno\u015b\u0107 (zbi\u00f3r opowiada\u0144)</ul><ul>Inwazja z Aldebarana (zbi\u00f3r opowiada\u0144)</ul><ul>Maska (zbi\u00f3r dzie\u0142)</ul><ul>Polowanie (zbi\u00f3r opowiada\u0144)</ul><ul>Powt\u00f3rka (zbi\u00f3r dzie\u0142)</ul>\""
       ]
      }
     ],
     "prompt_number": 8
    },
    {
     "cell_type": "heading",
     "level": 3,
     "metadata": {},
     "source": [
      "Zadanie 8"
     ]
    },
    {
     "cell_type": "markdown",
     "metadata": {},
     "source": [
      "W\u015br\u00f3d ksi\u0105\u017cek napisanych przez Lema wy\u015bwietl te, kt\u00f3re zosta\u0142y wydane w roku jego \u015bmierci."
     ]
    },
    {
     "cell_type": "code",
     "collapsed": false,
     "input": [
      "author = Author.where('surname = ?', \"Lem\").first\n",
      "year = author.died.strftime(\"%Y\")\n",
      "\n",
      "document = ''\n",
      "\n",
      "author.books.where(published: year).each do |book|\n",
      "  document += display_book(book)\n",
      "end\n",
      "\n",
      "IRuby.html document"
     ],
     "language": "python",
     "metadata": {},
     "outputs": [
      {
       "html": [
        "<ul>Rasa drapie\u017cc\u00f3w. Teksty ostatnie</ul>"
       ],
       "metadata": {},
       "output_type": "pyout",
       "prompt_number": 15,
       "text": [
        "\"<ul>Rasa drapie\u017cc\u00f3w. Teksty ostatnie</ul>\""
       ]
      }
     ],
     "prompt_number": 15
    },
    {
     "cell_type": "heading",
     "level": 3,
     "metadata": {},
     "source": [
      "Zadanie 9"
     ]
    },
    {
     "cell_type": "markdown",
     "metadata": {},
     "source": [
      "Wy\u015bwietl wszystkie ksi\u0105\u017cki znajduj\u0105ce si\u0119 w bazie. Opis powinien zawiera\u0107 tytu\u0142, imi\u0119 i nazwisko autora, rok wydania oraz \n",
      "obraz przedstawiaj\u0105cy ksi\u0105\u017ck\u0119 (o ile istnieje)."
     ]
    },
    {
     "cell_type": "code",
     "collapsed": false,
     "input": [
      "def display_all_books(book)\n",
      "  cover = book.image_url if book.image_url\n",
      "  \"<h1>#{book.title}</h1>\n",
      "      <h2>#{book.author.name} #{book.author.surname}</h2>\n",
      "    <i>#{book.published}</i>\n",
      "<img src='#{book.image_url}'/>\"\n",
      "end\n",
      "\n",
      "document = ''\n",
      "\n",
      "book = Book.all.each do |book|\n",
      "document += display_all_books(book)\n",
      "end\n",
      "\n",
      "IRuby.html document"
     ],
     "language": "python",
     "metadata": {},
     "outputs": [
      {
       "html": [
        "<h1>V\u00e9gj\u00e1t\u00e9k (reg\u00e9ny)</h1>\n",
        "      <h2>Orson Scott Card</h2>\n",
        "    <i></i>\n",
        "<img src=''/><h1>Pani Jeziora (powie\u015b\u0107)</h1>\n",
        "      <h2>Andrzej Sapkowski</h2>\n",
        "    <i>1999</i>\n",
        "<img src=''/><h1>Bellew Zawierucha</h1>\n",
        "      <h2>Jack London</h2>\n",
        "    <i>1912</i>\n",
        "<img src=''/><h1>Fa\u0142szywy trop (powie\u015b\u0107)</h1>\n",
        "      <h2>Henning Mankell</h2>\n",
        "    <i>1995</i>\n",
        "<img src=''/><h1>Bajki robot\u00f3w</h1>\n",
        "      <h2>Stanis\u0142aw Lem</h2>\n",
        "    <i>1964</i>\n",
        "<img src=''/><h1>Boles\u0142aw Chrobry (powie\u015b\u0107)</h1>\n",
        "      <h2>Antoni Go\u0142ubiew</h2>\n",
        "    <i>1947</i>\n",
        "<img src=''/><h1>De revolutionibus orbium coelestium</h1>\n",
        "      <h2>Miko\u0142aj Kopernik</h2>\n",
        "    <i>1543</i>\n",
        "<img src=''/><h1>Dzie\u0142o Wielkiego Mi\u0142osierdzia</h1>\n",
        "      <h2>Maria Franciszka Koz\u0142owska</h2>\n",
        "    <i>1922</i>\n",
        "<img src=''/><h1>Folwark zwierz\u0119cy</h1>\n",
        "      <h2>George Orwell</h2>\n",
        "    <i>1945</i>\n",
        "<img src='http://commons.wikimedia.org/wiki/Special:FilePath/Animalism_flag.svg?width=300'/><h1>Hamlet</h1>\n",
        "      <h2>William Szekspir</h2>\n",
        "    <i></i>\n",
        "<img src='http://commons.wikimedia.org/wiki/Special:FilePath/Hamlet_quarto_3rd.jpg?width=300'/><h1>Harry Potter</h1>\n",
        "      <h2>J. K. Rowling</h2>\n",
        "    <i>1997</i>\n",
        "<img src='http://commons.wikimedia.org/wiki/Special:FilePath/Harry_Potter_wordmark.svg?width=300'/><h1>Hobbit, czyli tam i z powrotem</h1>\n",
        "      <h2>John Ronald Reuel Tolkien</h2>\n",
        "    <i>1937</i>\n",
        "<img src=''/><h1>Hrabia Monte Christo</h1>\n",
        "      <h2>Aleksander Dumas (ojciec)</h2>\n",
        "    <i>1844</i>\n",
        "<img src='http://commons.wikimedia.org/wiki/Special:FilePath/Louis_Fran\u00e7ais-Dant\u00e8s_sur_son_rocher.jpg?width=300'/><h1>Kariera Nikodema Dyzmy</h1>\n",
        "      <h2>Tadeusz Do\u0142\u0119ga-Mostowicz</h2>\n",
        "    <i>1932</i>\n",
        "<img src=''/><h1>Krzy\u017cacy (powie\u015b\u0107)</h1>\n",
        "      <h2>Henryk Sienkiewicz</h2>\n",
        "    <i>1900</i>\n",
        "<img src='http://commons.wikimedia.org/wiki/Special:FilePath/PL_Henryk_Sienkiewicz-Krzy\u017cacy_0005.jpeg?width=300'/><h1>Lolita</h1>\n",
        "      <h2>Vladimir Nabokov</h2>\n",
        "    <i>1955</i>\n",
        "<img src=''/><h1>Mein Kampf</h1>\n",
        "      <h2>Adolf Hitler</h2>\n",
        "    <i>1925</i>\n",
        "<img src='http://commons.wikimedia.org/wiki/Special:FilePath/Landsberg.Jail.jpg?width=300'/><h1>Nad Niemnem</h1>\n",
        "      <h2>Eliza Orzeszkowa</h2>\n",
        "    <i>1888</i>\n",
        "<img src='http://commons.wikimedia.org/wiki/Special:FilePath/Nad_Niemnem_-_manuscript.jpg?width=300'/><h1>Niedoko\u0144czone opowie\u015bci</h1>\n",
        "      <h2>Christopher Tolkien</h2>\n",
        "    <i>1980</i>\n",
        "<img src=''/><h1>Nowe Ateny</h1>\n",
        "      <h2>Benedykt Chmielowski</h2>\n",
        "    <i>1745</i>\n",
        "<img src='http://commons.wikimedia.org/wiki/Special:FilePath/Nowe_ateny1.jpg?width=300'/><h1>Nowy wspania\u0142y \u015bwiat</h1>\n",
        "      <h2>Aldous Huxley</h2>\n",
        "    <i>1932</i>\n",
        "<img src=''/><h1>Ogniem i mieczem</h1>\n",
        "      <h2>Henryk Sienkiewicz</h2>\n",
        "    <i>1884</i>\n",
        "<img src='http://commons.wikimedia.org/wiki/Special:FilePath/Podbipieta.JPG?width=300'/><h1>Ojciec Goriot</h1>\n",
        "      <h2>Honor\u00e9 de Balzac</h2>\n",
        "    <i>1835</i>\n",
        "<img src='http://commons.wikimedia.org/wiki/Special:FilePath/Father_Goriot_by_H._Daumier_(1842).JPG?width=300'/><h1>Proces (powie\u015b\u0107)</h1>\n",
        "      <h2>Franz Kafka</h2>\n",
        "    <i>1925</i>\n",
        "<img src='http://commons.wikimedia.org/wiki/Special:FilePath/Kafka_Der_Prozess_1925.jpg?width=300'/><h1>Psa\u0142terz Dawid\u00f3w</h1>\n",
        "      <h2>Jan Kochanowski</h2>\n",
        "    <i>1579</i>\n",
        "<img src='http://commons.wikimedia.org/wiki/Special:FilePath/Kochanowski_-_Psa\u0142terz_Dawid\u00f3w_(1579).jpg?width=300'/><h1>Quo vadis</h1>\n",
        "      <h2>Henryk Sienkiewicz</h2>\n",
        "    <i>1896</i>\n",
        "<img src='http://commons.wikimedia.org/wiki/Special:FilePath/Rzym_popiersie_Sienkiewicza_w_kosciele_Domine_Quo_Vadis.JPG?width=300'/><h1>Romeo i Julia</h1>\n",
        "      <h2>William Szekspir</h2>\n",
        "    <i>1597</i>\n",
        "<img src='http://commons.wikimedia.org/wiki/Special:FilePath/Romeo_and_juliet_brown.jpg?width=300'/><h1>Silmarillion</h1>\n",
        "      <h2>John Ronald Reuel Tolkien</h2>\n",
        "    <i>1977</i>\n",
        "<img src='http://commons.wikimedia.org/wiki/Special:FilePath/Silmarrillion,_Just_under_the_Cover.jpg?width=300'/><h1>Solaris (powie\u015b\u0107)</h1>\n",
        "      <h2>Stanis\u0142aw Lem</h2>\n",
        "    <i>1961</i>\n",
        "<img src='http://commons.wikimedia.org/wiki/Special:FilePath/Solaris,_various_editions_02.jpg?width=300'/><h1>W\u0142adca Pier\u015bcieni</h1>\n",
        "      <h2>John Ronald Reuel Tolkien</h2>\n",
        "    <i>1954</i>\n",
        "<img src='http://commons.wikimedia.org/wiki/Special:FilePath/Unico_Anello.png?width=300'/><h1>Zew Cthulhu (opowiadanie)</h1>\n",
        "      <h2>Howard Phillips Lovecraft</h2>\n",
        "    <i>1928</i>\n",
        "<img src=''/><h1>Znaczy Kapitan</h1>\n",
        "      <h2>Karol Olgierd Borchardt</h2>\n",
        "    <i>1960</i>\n",
        "<img src=''/><h1>Anna Karenina</h1>\n",
        "      <h2>Lew To\u0142stoj</h2>\n",
        "    <i>1877</i>\n",
        "<img src='http://commons.wikimedia.org/wiki/Special:FilePath/AnnaKareninaTitle.jpg?width=300'/><h1>Azazel (powie\u015b\u0107)</h1>\n",
        "      <h2>Boris Akunin</h2>\n",
        "    <i>1998</i>\n",
        "<img src=''/><h1>Bezsenno\u015b\u0107 (zbi\u00f3r opowiada\u0144)</h1>\n",
        "      <h2>Stanis\u0142aw Lem</h2>\n",
        "    <i>1971</i>\n",
        "<img src=''/><h1>Ca\u0142a prawda o planecie Ksi</h1>\n",
        "      <h2>Janusz Zajdel</h2>\n",
        "    <i>1983</i>\n",
        "<img src=''/><h1>Dekorator</h1>\n",
        "      <h2>Boris Akunin</h2>\n",
        "    <i>1998</i>\n",
        "<img src=''/><h1>Diamentowa karoca</h1>\n",
        "      <h2>Boris Akunin</h2>\n",
        "    <i>2003</i>\n",
        "<img src=''/><h1>Dives in misericordia</h1>\n",
        "      <h2>Jan Pawe\u0142 II</h2>\n",
        "    <i>1980</i>\n",
        "<img src='http://commons.wikimedia.org/wiki/Special:FilePath/John_paul_2_coa.svg?width=300'/><h1>Droga na molo w Wigan</h1>\n",
        "      <h2>George Orwell</h2>\n",
        "    <i>1937</i>\n",
        "<img src=''/><h1>Druga Fundacja</h1>\n",
        "      <h2>Isaac Asimov</h2>\n",
        "    <i>1953</i>\n",
        "<img src=''/><h1>Dwana\u015bcie krzese\u0142</h1>\n",
        "      <h2>Ilja Ilf</h2>\n",
        "    <i>1928</i>\n",
        "<img src='http://commons.wikimedia.org/wiki/Special:FilePath/Ostap_Bender_Monument_in_Kharkiv.jpg?width=300'/><h1>Fundacja (powie\u015b\u0107)</h1>\n",
        "      <h2>Isaac Asimov</h2>\n",
        "    <i>1951</i>\n",
        "<img src=''/><h1>Fundacja i Imperium</h1>\n",
        "      <h2>Isaac Asimov</h2>\n",
        "    <i>1952</i>\n",
        "<img src=''/><h1>Gambit turecki</h1>\n",
        "      <h2>Boris Akunin</h2>\n",
        "    <i>1998</i>\n",
        "<img src=''/><h1>G\u0142os Pana</h1>\n",
        "      <h2>Stanis\u0142aw Lem</h2>\n",
        "    <i>1968</i>\n",
        "<img src=''/><h1>Ich czworo</h1>\n",
        "      <h2>Gabriela Zapolska</h2>\n",
        "    <i>1907</i>\n",
        "<img src=''/><h1>Inwazja z Aldebarana (zbi\u00f3r opowiada\u0144)</h1>\n",
        "      <h2>Stanis\u0142aw Lem</h2>\n",
        "    <i>1959</i>\n",
        "<img src=''/><h1>Kamienna ma\u0142pa</h1>\n",
        "      <h2>Jeffery Deaver</h2>\n",
        "    <i>2002</i>\n",
        "<img src=''/><h1>Katar (powie\u015b\u0107)</h1>\n",
        "      <h2>Stanis\u0142aw Lem</h2>\n",
        "    <i>1976</i>\n",
        "<img src=''/><h1>Kochanek \u015amierci</h1>\n",
        "      <h2>Boris Akunin</h2>\n",
        "    <i>2001</i>\n",
        "<img src=''/><h1>Kochanka \u015amierci</h1>\n",
        "      <h2>Boris Akunin</h2>\n",
        "    <i>2001</i>\n",
        "<img src=''/><h1>Koronacja (powie\u015b\u0107)</h1>\n",
        "      <h2>Boris Akunin</h2>\n",
        "    <i>1999</i>\n",
        "<img src=''/><h1>Kot w stanie czystym</h1>\n",
        "      <h2>Terry Pratchett</h2>\n",
        "    <i>1989</i>\n",
        "<img src=''/><h1>Ko\u0144 i jego ch\u0142opiec</h1>\n",
        "      <h2>Clive Staples Lewis</h2>\n",
        "    <i>1954</i>\n",
        "<img src=''/><h1>Ksi\u0119ga robot\u00f3w</h1>\n",
        "      <h2>Stanis\u0142aw Lem</h2>\n",
        "    <i>1961</i>\n",
        "<img src=''/><h1>Ksi\u0119gi narodu polskiego i pielgrzymstwa polskiego</h1>\n",
        "      <h2>Adam Mickiewicz</h2>\n",
        "    <i>1832</i>\n",
        "<img src='http://commons.wikimedia.org/wiki/Special:FilePath/PL_Ksi\u0119gi_narodu_polskiego_i_pielgrzymstwa_polskiego_008.png?width=300'/><h1>Kuzynki</h1>\n",
        "      <h2>Andrzej Pilipiuk</h2>\n",
        "    <i>2003</i>\n",
        "<img src=''/><h1>Lewa r\u0119ka ciemno\u015bci</h1>\n",
        "      <h2>Ursula K. Le Guin</h2>\n",
        "    <i>1969</i>\n",
        "<img src=''/><h1>Lewiatan (powie\u015b\u0107)</h1>\n",
        "      <h2>Boris Akunin</h2>\n",
        "    <i>1998</i>\n",
        "<img src=''/><h1>Mag (powie\u015b\u0107 J. Deavera)</h1>\n",
        "      <h2>Jeffery Deaver</h2>\n",
        "    <i>2003</i>\n",
        "<img src=''/><h1>Maska (zbi\u00f3r dzie\u0142)</h1>\n",
        "      <h2>Stanis\u0142aw Lem</h2>\n",
        "    <i>1976</i>\n",
        "<img src=''/><h1>Niezwyci\u0119\u017cony i inne opowiadania</h1>\n",
        "      <h2>Stanis\u0142aw Lem</h2>\n",
        "    <i>1964</i>\n",
        "<img src=''/><h1>Noc ksi\u0119\u017cycowa</h1>\n",
        "      <h2>Stanis\u0142aw Lem</h2>\n",
        "    <i>1963</i>\n",
        "<img src=''/><h1>Ojcowie i dzieci</h1>\n",
        "      <h2>Iwan Turgieniew</h2>\n",
        "    <i>0</i>\n",
        "<img src='http://commons.wikimedia.org/wiki/Special:FilePath/Otsy1880.jpg?width=300'/><h1>Pami\u0119tnik znaleziony w wannie</h1>\n",
        "      <h2>Stanis\u0142aw Lem</h2>\n",
        "    <i>1961</i>\n",
        "<img src=''/><h1>Pie\u015b\u0144 Lodu i Ognia</h1>\n",
        "      <h2>George R. R. Martin</h2>\n",
        "    <i>1996</i>\n",
        "<img src=''/><h1>Podr\u00f3\u017ce z Herodotem</h1>\n",
        "      <h2>Ryszard Kapu\u015bci\u0144ski</h2>\n",
        "    <i>2004</i>\n",
        "<img src=''/><h1>Polowanie (zbi\u00f3r opowiada\u0144)</h1>\n",
        "      <h2>Stanis\u0142aw Lem</h2>\n",
        "    <i>1965</i>\n",
        "<img src=''/><h1>Powt\u00f3rka (zbi\u00f3r dzie\u0142)</h1>\n",
        "      <h2>Stanis\u0142aw Lem</h2>\n",
        "    <i>1979</i>\n",
        "<img src=''/><h1>Po\u017cytek ze smoka</h1>\n",
        "      <h2>Stanis\u0142aw Lem</h2>\n",
        "    <i>1993</i>\n",
        "<img src=''/><h1>Preludium Fundacji</h1>\n",
        "      <h2>Isaac Asimov</h2>\n",
        "    <i>1988</i>\n",
        "<img src=''/><h1>Radca stanu (powie\u015b\u0107)</h1>\n",
        "      <h2>Boris Akunin</h2>\n",
        "    <i>1998</i>\n",
        "<img src=''/><h1>Rasa drapie\u017cc\u00f3w. Teksty ostatnie</h1>\n",
        "      <h2>Stanis\u0142aw Lem</h2>\n",
        "    <i>2006</i>\n",
        "<img src=''/><h1>Rilla ze Z\u0142otego Brzegu</h1>\n",
        "      <h2>Lucy Maud Montgomery</h2>\n",
        "    <i>1921</i>\n",
        "<img src=''/><h1>Sen nocy letniej</h1>\n",
        "      <h2>William Szekspir</h2>\n",
        "    <i>1600</i>\n",
        "<img src='http://commons.wikimedia.org/wiki/Special:FilePath/MND_title_page.jpg?width=300'/><h1>Sezam i inne opowiadania</h1>\n",
        "      <h2>Stanis\u0142aw Lem</h2>\n",
        "    <i>1954</i>\n",
        "<img src=''/><h1>Slavorum apostoli</h1>\n",
        "      <h2>Jan Pawe\u0142 II</h2>\n",
        "    <i>1985</i>\n",
        "<img src='http://commons.wikimedia.org/wiki/Special:FilePath/John_paul_2_coa.svg?width=300'/><h1>Summa technologiae</h1>\n",
        "      <h2>Stanis\u0142aw Lem</h2>\n",
        "    <i>1964</i>\n",
        "<img src=''/><h1>Tam gdzie spadaj\u0105 anio\u0142y</h1>\n",
        "      <h2>Dorota Terakowska</h2>\n",
        "    <i>1998</i>\n",
        "<img src=''/><h1>Tomek u \u017ar\u00f3de\u0142 Amazonki</h1>\n",
        "      <h2>Alfred Szklarski</h2>\n",
        "    <i>1967</i>\n",
        "<img src=''/><h1>Tomek w Gran Chaco</h1>\n",
        "      <h2>Alfred Szklarski</h2>\n",
        "    <i>1987</i>\n",
        "<img src=''/><h1>Tomek w grobowcach faraon\u00f3w</h1>\n",
        "      <h2>Alfred Szklarski</h2>\n",
        "    <i>1994</i>\n",
        "<img src=''/><h1>Ut unum sint</h1>\n",
        "      <h2>Jan Pawe\u0142 II</h2>\n",
        "    <i>1995</i>\n",
        "<img src='http://commons.wikimedia.org/wiki/Special:FilePath/John_paul_2_coa.svg?width=300'/><h1>Veritatis splendor</h1>\n",
        "      <h2>Jan Pawe\u0142 II</h2>\n",
        "    <i>1993</i>\n",
        "<img src='http://commons.wikimedia.org/wiki/Special:FilePath/John_paul_2_coa.svg?width=300'/><h1>Walc stulecia</h1>\n",
        "      <h2>Rafa\u0142 A. Ziemkiewicz</h2>\n",
        "    <i>1998</i>\n",
        "<img src=''/><h1>Walet pikowy (powie\u015b\u0107)</h1>\n",
        "      <h2>Boris Akunin</h2>\n",
        "    <i>1998</i>\n",
        "<img src=''/><h1>Wampir Lestat</h1>\n",
        "      <h2>Anne Rice</h2>\n",
        "    <i>1985</i>\n",
        "<img src=''/><h1>Wizja lokalna (powie\u015b\u0107)</h1>\n",
        "      <h2>Stanis\u0142aw Lem</h2>\n",
        "    <i>1982</i>\n",
        "<img src=''/><h1>Wojna i pok\u00f3j</h1>\n",
        "      <h2>Lew To\u0142stoj</h2>\n",
        "    <i>1865</i>\n",
        "<img src='http://commons.wikimedia.org/wiki/Special:FilePath/War-and-peace_1873.gif?width=300'/><h1>\u015amier\u0107 Achillesa</h1>\n",
        "      <h2>Boris Akunin</h2>\n",
        "    <i>1998</i>\n",
        "<img src=''/><h1>\u017bycie i przygody Remusa</h1>\n",
        "      <h2>Aleksander Majkowski</h2>\n",
        "    <i>1938</i>\n",
        "<img src=''/><h1>Casino Royale (powie\u015b\u0107)</h1>\n",
        "      <h2>Ian Fleming</h2>\n",
        "    <i>1953</i>\n",
        "<img src=''/><h1>Cie\u0144 kata</h1>\n",
        "      <h2>Gene Wolfe</h2>\n",
        "    <i>1980</i>\n",
        "<img src=''/><h1>Czarnoksi\u0119\u017cnik z Archipelagu</h1>\n",
        "      <h2>Ursula K. Le Guin</h2>\n",
        "    <i>1968</i>\n",
        "<img src=''/><h1>Czarownica z Portobello</h1>\n",
        "      <h2>Paulo Coelho</h2>\n",
        "    <i>2006</i>\n",
        "<img src=''/><h1>Czas patriot\u00f3w (powie\u015b\u0107)</h1>\n",
        "      <h2>Tom Clancy</h2>\n",
        "    <i>1987</i>\n",
        "<img src=''/>"
       ],
       "metadata": {},
       "output_type": "pyout",
       "prompt_number": 34,
       "text": [
        "\"<h1>V\u00e9gj\u00e1t\u00e9k (reg\u00e9ny)</h1>\\n      <h2>Orson Scott Card</h2>\\n    <i></i>\\n<img src=''/><h1>Pani Jeziora (powie\u015b\u0107)</h1>\\n      <h2>Andrzej Sapkowski</h2>\\n    <i>1999</i>\\n<img src=''/><h1>Bellew Zawierucha</h1>\\n      <h2>Jack London</h2>\\n    <i>1912</i>\\n<img src=''/><h1>Fa\u0142szywy trop (powie\u015b\u0107)</h1>\\n      <h2>Henning Mankell</h2>\\n    <i>1995</i>\\n<img src=''/><h1>Bajki robot\u00f3w</h1>\\n      <h2>Stanis\u0142aw Lem</h2>\\n    <i>1964</i>\\n<img src=''/><h1>Boles\u0142aw Chrobry (powie\u015b\u0107)</h1>\\n      <h2>Antoni Go\u0142ubiew</h2>\\n    <i>1947</i>\\n<img src=''/><h1>De revolutionibus orbium coelestium</h1>\\n      <h2>Miko\u0142aj Kopernik</h2>\\n    <i>1543</i>\\n<img src=''/><h1>Dzie\u0142o Wielkiego Mi\u0142osierdzia</h1>\\n      <h2>Maria Franciszka Koz\u0142owska</h2>\\n    <i>1922</i>\\n<img src=''/><h1>Folwark zwierz\u0119cy</h1>\\n      <h2>George Orwell</h2>\\n    <i>1945</i>\\n<img src='http://commons.wikimedia.org/wiki/Special:FilePath/Animalism_flag.svg?width=300'/><h1>Hamlet</h1>\\n      <h2>William Szekspir</h2>\\n    <i></i>\\n<img src='http://commons.wikimedia.org/wiki/Special:FilePath/Hamlet_quarto_3rd.jpg?width=300'/><h1>Harry Potter</h1>\\n      <h2>J. K. Rowling</h2>\\n    <i>1997</i>\\n<img src='http://commons.wikimedia.org/wiki/Special:FilePath/Harry_Potter_wordmark.svg?width=300'/><h1>Hobbit, czyli tam i z powrotem</h1>\\n      <h2>John Ronald Reuel Tolkien</h2>\\n    <i>1937</i>\\n<img src=''/><h1>Hrabia Monte Christo</h1>\\n      <h2>Aleksander Dumas (ojciec)</h2>\\n    <i>1844</i>\\n<img src='http://commons.wikimedia.org/wiki/Special:FilePath/Louis_Fran\u00e7ais-Dant\u00e8s_sur_son_rocher.jpg?width=300'/><h1>Kariera Nikodema Dyzmy</h1>\\n      <h2>Tadeusz Do\u0142\u0119ga-Mostowicz</h2>\\n    <i>1932</i>\\n<img src=''/><h1>Krzy\u017cacy (powie\u015b\u0107)</h1>\\n      <h2>Henryk Sienkiewicz</h2>\\n    <i>1900</i>\\n<img src='http://commons.wikimedia.org/wiki/Special:FilePath/PL_Henryk_Sienkiewicz-Krzy\u017cacy_0005.jpeg?width=300'/><h1>Lolita</h1>\\n      <h2>Vladimir Nabokov</h2>\\n    <i>1955</i>\\n<img src=''/><h1>Mein Kampf</h1>\\n      <h2>Adolf Hitler</h2>\\n    <i>1925</i>\\n<img src='http://commons.wikimedia.org/wiki/Special:FilePath/Landsberg.Jail.jpg?width=300'/><h1>Nad Niemnem</h1>\\n      <h2>Eliza Orzeszkowa</h2>\\n    <i>1888</i>\\n<img src='http://commons.wikimedia.org/wiki/Special:FilePath/Nad_Niemnem_-_manuscript.jpg?width=300'/><h1>Niedoko\u0144czone opowie\u015bci</h1>\\n      <h2>Christopher Tolkien</h2>\\n    <i>1980</i>\\n<img src=''/><h1>Nowe Ateny</h1>\\n      <h2>Benedykt Chmielowski</h2>\\n    <i>1745</i>\\n<img src='http://commons.wikimedia.org/wiki/Special:FilePath/Nowe_ateny1.jpg?width=300'/><h1>Nowy wspania\u0142y \u015bwiat</h1>\\n      <h2>Aldous Huxley</h2>\\n    <i>1932</i>\\n<img src=''/><h1>Ogniem i mieczem</h1>\\n      <h2>Henryk Sienkiewicz</h2>\\n    <i>1884</i>\\n<img src='http://commons.wikimedia.org/wiki/Special:FilePath/Podbipieta.JPG?width=300'/><h1>Ojciec Goriot</h1>\\n      <h2>Honor\u00e9 de Balzac</h2>\\n    <i>1835</i>\\n<img src='http://commons.wikimedia.org/wiki/Special:FilePath/Father_Goriot_by_H._Daumier_(1842).JPG?width=300'/><h1>Proces (powie\u015b\u0107)</h1>\\n      <h2>Franz Kafka</h2>\\n    <i>1925</i>\\n<img src='http://commons.wikimedia.org/wiki/Special:FilePath/Kafka_Der_Prozess_1925.jpg?width=300'/><h1>Psa\u0142terz Dawid\u00f3w</h1>\\n      <h2>Jan Kochanowski</h2>\\n    <i>1579</i>\\n<img src='http://commons.wikimedia.org/wiki/Special:FilePath/Kochanowski_-_Psa\u0142terz_Dawid\u00f3w_(1579).jpg?width=300'/><h1>Quo vadis</h1>\\n      <h2>Henryk Sienkiewicz</h2>\\n    <i>1896</i>\\n<img src='http://commons.wikimedia.org/wiki/Special:FilePath/Rzym_popiersie_Sienkiewicza_w_kosciele_Domine_Quo_Vadis.JPG?width=300'/><h1>Romeo i Julia</h1>\\n      <h2>William Szekspir</h2>\\n    <i>1597</i>\\n<img src='http://commons.wikimedia.org/wiki/Special:FilePath/Romeo_and_juliet_brown.jpg?width=300'/><h1>Silmarillion</h1>\\n      <h2>John Ronald Reuel Tolkien</h2>\\n    <i>1977</i>\\n<img src='http://commons.wikimedia.org/wiki/Special:FilePath/Silmarrillion,_Just_under_the_Cover.jpg?width=300'/><h1>Solaris (powie\u015b\u0107)</h1>\\n      <h2>Stanis\u0142aw Lem</h2>\\n    <i>1961</i>\\n<img src='http://commons.wikimedia.org/wiki/Special:FilePath/Solaris,_various_editions_02.jpg?width=300'/><h1>W\u0142adca Pier\u015bcieni</h1>\\n      <h2>John Ronald Reuel Tolkien</h2>\\n    <i>1954</i>\\n<img src='http://commons.wikimedia.org/wiki/Special:FilePath/Unico_Anello.png?width=300'/><h1>Zew Cthulhu (opowiadanie)</h1>\\n      <h2>Howard Phillips Lovecraft</h2>\\n    <i>1928</i>\\n<img src=''/><h1>Znaczy Kapitan</h1>\\n      <h2>Karol Olgierd Borchardt</h2>\\n    <i>1960</i>\\n<img src=''/><h1>Anna Karenina</h1>\\n      <h2>Lew To\u0142stoj</h2>\\n    <i>1877</i>\\n<img src='http://commons.wikimedia.org/wiki/Special:FilePath/AnnaKareninaTitle.jpg?width=300'/><h1>Azazel (powie\u015b\u0107)</h1>\\n      <h2>Boris Akunin</h2>\\n    <i>1998</i>\\n<img src=''/><h1>Bezsenno\u015b\u0107 (zbi\u00f3r opowiada\u0144)</h1>\\n      <h2>Stanis\u0142aw Lem</h2>\\n    <i>1971</i>\\n<img src=''/><h1>Ca\u0142a prawda o planecie Ksi</h1>\\n      <h2>Janusz Zajdel</h2>\\n    <i>1983</i>\\n<img src=''/><h1>Dekorator</h1>\\n      <h2>Boris Akunin</h2>\\n    <i>1998</i>\\n<img src=''/><h1>Diamentowa karoca</h1>\\n      <h2>Boris Akunin</h2>\\n    <i>2003</i>\\n<img src=''/><h1>Dives in misericordia</h1>\\n      <h2>Jan Pawe\u0142 II</h2>\\n    <i>1980</i>\\n<img src='http://commons.wikimedia.org/wiki/Special:FilePath/John_paul_2_coa.svg?width=300'/><h1>Droga na molo w Wigan</h1>\\n      <h2>George Orwell</h2>\\n    <i>1937</i>\\n<img src=''/><h1>Druga Fundacja</h1>\\n      <h2>Isaac Asimov</h2>\\n    <i>1953</i>\\n<img src=''/><h1>Dwana\u015bcie krzese\u0142</h1>\\n      <h2>Ilja Ilf</h2>\\n    <i>1928</i>\\n<img src='http://commons.wikimedia.org/wiki/Special:FilePath/Ostap_Bender_Monument_in_Kharkiv.jpg?width=300'/><h1>Fundacja (powie\u015b\u0107)</h1>\\n      <h2>Isaac Asimov</h2>\\n    <i>1951</i>\\n<img src=''/><h1>Fundacja i Imperium</h1>\\n      <h2>Isaac Asimov</h2>\\n    <i>1952</i>\\n<img src=''/><h1>Gambit turecki</h1>\\n      <h2>Boris Akunin</h2>\\n    <i>1998</i>\\n<img src=''/><h1>G\u0142os Pana</h1>\\n      <h2>Stanis\u0142aw Lem</h2>\\n    <i>1968</i>\\n<img src=''/><h1>Ich czworo</h1>\\n      <h2>Gabriela Zapolska</h2>\\n    <i>1907</i>\\n<img src=''/><h1>Inwazja z Aldebarana (zbi\u00f3r opowiada\u0144)</h1>\\n      <h2>Stanis\u0142aw Lem</h2>\\n    <i>1959</i>\\n<img src=''/><h1>Kamienna ma\u0142pa</h1>\\n      <h2>Jeffery Deaver</h2>\\n    <i>2002</i>\\n<img src=''/><h1>Katar (powie\u015b\u0107)</h1>\\n      <h2>Stanis\u0142aw Lem</h2>\\n    <i>1976</i>\\n<img src=''/><h1>Kochanek \u015amierci</h1>\\n      <h2>Boris Akunin</h2>\\n    <i>2001</i>\\n<img src=''/><h1>Kochanka \u015amierci</h1>\\n      <h2>Boris Akunin</h2>\\n    <i>2001</i>\\n<img src=''/><h1>Koronacja (powie\u015b\u0107)</h1>\\n      <h2>Boris Akunin</h2>\\n    <i>1999</i>\\n<img src=''/><h1>Kot w stanie czystym</h1>\\n      <h2>Terry Pratchett</h2>\\n    <i>1989</i>\\n<img src=''/><h1>Ko\u0144 i jego ch\u0142opiec</h1>\\n      <h2>Clive Staples Lewis</h2>\\n    <i>1954</i>\\n<img src=''/><h1>Ksi\u0119ga robot\u00f3w</h1>\\n      <h2>Stanis\u0142aw Lem</h2>\\n    <i>1961</i>\\n<img src=''/><h1>Ksi\u0119gi narodu polskiego i pielgrzymstwa polskiego</h1>\\n      <h2>Adam Mickiewicz</h2>\\n    <i>1832</i>\\n<img src='http://commons.wikimedia.org/wiki/Special:FilePath/PL_Ksi\u0119gi_narodu_polskiego_i_pielgrzymstwa_polskiego_008.png?width=300'/><h1>Kuzynki</h1>\\n      <h2>Andrzej Pilipiuk</h2>\\n    <i>2003</i>\\n<img src=''/><h1>Lewa r\u0119ka ciemno\u015bci</h1>\\n      <h2>Ursula K. Le Guin</h2>\\n    <i>1969</i>\\n<img src=''/><h1>Lewiatan (powie\u015b\u0107)</h1>\\n      <h2>Boris Akunin</h2>\\n    <i>1998</i>\\n<img src=''/><h1>Mag (powie\u015b\u0107 J. Deavera)</h1>\\n      <h2>Jeffery Deaver</h2>\\n    <i>2003</i>\\n<img src=''/><h1>Maska (zbi\u00f3r dzie\u0142)</h1>\\n      <h2>Stanis\u0142aw Lem</h2>\\n    <i>1976</i>\\n<img src=''/><h1>Niezwyci\u0119\u017cony i inne opowiadania</h1>\\n      <h2>Stanis\u0142aw Lem</h2>\\n    <i>1964</i>\\n<img src=''/><h1>Noc ksi\u0119\u017cycowa</h1>\\n      <h2>Stanis\u0142aw Lem</h2>\\n    <i>1963</i>\\n<img src=''/><h1>Ojcowie i dzieci</h1>\\n      <h2>Iwan Turgieniew</h2>\\n    <i>0</i>\\n<img src='http://commons.wikimedia.org/wiki/Special:FilePath/Otsy1880.jpg?width=300'/><h1>Pami\u0119tnik znaleziony w wannie</h1>\\n      <h2>Stanis\u0142aw Lem</h2>\\n    <i>1961</i>\\n<img src=''/><h1>Pie\u015b\u0144 Lodu i Ognia</h1>\\n      <h2>George R. R. Martin</h2>\\n    <i>1996</i>\\n<img src=''/><h1>Podr\u00f3\u017ce z Herodotem</h1>\\n      <h2>Ryszard Kapu\u015bci\u0144ski</h2>\\n    <i>2004</i>\\n<img src=''/><h1>Polowanie (zbi\u00f3r opowiada\u0144)</h1>\\n      <h2>Stanis\u0142aw Lem</h2>\\n    <i>1965</i>\\n<img src=''/><h1>Powt\u00f3rka (zbi\u00f3r dzie\u0142)</h1>\\n      <h2>Stanis\u0142aw Lem</h2>\\n    <i>1979</i>\\n<img src=''/><h1>Po\u017cytek ze smoka</h1>\\n      <h2>Stanis\u0142aw Lem</h2>\\n    <i>1993</i>\\n<img src=''/><h1>Preludium Fundacji</h1>\\n      <h2>Isaac Asimov</h2>\\n    <i>1988</i>\\n<img src=''/><h1>Radca stanu (powie\u015b\u0107)</h1>\\n      <h2>Boris Akunin</h2>\\n    <i>1998</i>\\n<img src=''/><h1>Rasa drapie\u017cc\u00f3w. Teksty ostatnie</h1>\\n      <h2>Stanis\u0142aw Lem</h2>\\n    <i>2006</i>\\n<img src=''/><h1>Rilla ze Z\u0142otego Brzegu</h1>\\n      <h2>Lucy Maud Montgomery</h2>\\n    <i>1921</i>\\n<img src=''/><h1>Sen nocy letniej</h1>\\n      <h2>William Szekspir</h2>\\n    <i>1600</i>\\n<img src='http://commons.wikimedia.org/wiki/Special:FilePath/MND_title_page.jpg?width=300'/><h1>Sezam i inne opowiadania</h1>\\n      <h2>Stanis\u0142aw Lem</h2>\\n    <i>1954</i>\\n<img src=''/><h1>Slavorum apostoli</h1>\\n      <h2>Jan Pawe\u0142 II</h2>\\n    <i>1985</i>\\n<img src='http://commons.wikimedia.org/wiki/Special:FilePath/John_paul_2_coa.svg?width=300'/><h1>Summa technologiae</h1>\\n      <h2>Stanis\u0142aw Lem</h2>\\n    <i>1964</i>\\n<img src=''/><h1>Tam gdzie spadaj\u0105 anio\u0142y</h1>\\n      <h2>Dorota Terakowska</h2>\\n    <i>1998</i>\\n<img src=''/><h1>Tomek u \u017ar\u00f3de\u0142 Amazonki</h1>\\n      <h2>Alfred Szklarski</h2>\\n    <i>1967</i>\\n<img src=''/><h1>Tomek w Gran Chaco</h1>\\n      <h2>Alfred Szklarski</h2>\\n    <i>1987</i>\\n<img src=''/><h1>Tomek w grobowcach faraon\u00f3w</h1>\\n      <h2>Alfred Szklarski</h2>\\n    <i>1994</i>\\n<img src=''/><h1>Ut unum sint</h1>\\n      <h2>Jan Pawe\u0142 II</h2>\\n    <i>1995</i>\\n<img src='http://commons.wikimedia.org/wiki/Special:FilePath/John_paul_2_coa.svg?width=300'/><h1>Veritatis splendor</h1>\\n      <h2>Jan Pawe\u0142 II</h2>\\n    <i>1993</i>\\n<img src='http://commons.wikimedia.org/wiki/Special:FilePath/John_paul_2_coa.svg?width=300'/><h1>Walc stulecia</h1>\\n      <h2>Rafa\u0142 A. Ziemkiewicz</h2>\\n    <i>1998</i>\\n<img src=''/><h1>Walet pikowy (powie\u015b\u0107)</h1>\\n      <h2>Boris Akunin</h2>\\n    <i>1998</i>\\n<img src=''/><h1>Wampir Lestat</h1>\\n      <h2>Anne Rice</h2>\\n    <i>1985</i>\\n<img src=''/><h1>Wizja lokalna (powie\u015b\u0107)</h1>\\n      <h2>Stanis\u0142aw Lem</h2>\\n    <i>1982</i>\\n<img src=''/><h1>Wojna i pok\u00f3j</h1>\\n      <h2>Lew To\u0142stoj</h2>\\n    <i>1865</i>\\n<img src='http://commons.wikimedia.org/wiki/Special:FilePath/War-and-peace_1873.gif?width=300'/><h1>\u015amier\u0107 Achillesa</h1>\\n      <h2>Boris Akunin</h2>\\n    <i>1998</i>\\n<img src=''/><h1>\u017bycie i przygody Remusa</h1>\\n      <h2>Aleksander Majkowski</h2>\\n    <i>1938</i>\\n<img src=''/><h1>Casino Royale (powie\u015b\u0107)</h1>\\n      <h2>Ian Fleming</h2>\\n    <i>1953</i>\\n<img src=''/><h1>Cie\u0144 kata</h1>\\n      <h2>Gene Wolfe</h2>\\n    <i>1980</i>\\n<img src=''/><h1>Czarnoksi\u0119\u017cnik z Archipelagu</h1>\\n      <h2>Ursula K. Le Guin</h2>\\n    <i>1968</i>\\n<img src=''/><h1>Czarownica z Portobello</h1>\\n      <h2>Paulo Coelho</h2>\\n    <i>2006</i>\\n<img src=''/><h1>Czas patriot\u00f3w (powie\u015b\u0107)</h1>\\n      <h2>Tom Clancy</h2>\\n    <i>1987</i>\\n<img src=''/>\""
       ]
      }
     ],
     "prompt_number": 34
    },
    {
     "cell_type": "heading",
     "level": 3,
     "metadata": {},
     "source": [
      "Zadanie 10"
     ]
    },
    {
     "cell_type": "markdown",
     "metadata": {},
     "source": [
      "Wy\u015bwietl wszystkich autor\u00f3w znajduj\u0105cych si\u0119 w bazie wraz z opisem zawieraj\u0105cym ich zdj\u0119cie, dat\u0119 urodzin i \u015bmierci oraz spis \n",
      "opublikowanych ksi\u0105\u017cek. Pami\u0119taj o odpowiednim sformatowaniu dat oraz o tym, \u017ce nie wszyscy autorzy maj\u0105 przypisane wszystkie\n",
      "informacje."
     ]
    },
    {
     "cell_type": "code",
     "collapsed": false,
     "input": [
      "def display_author(author)\n",
      "  born = author.born\n",
      "  born = born.strftime(\"%d.%m.%Y\") if born\n",
      "  died = author.died\n",
      "  died = died.strftime(\"%d.%m.%Y\") if died\n",
      "  image = author.image_url if author.image_url\n",
      "  \"<h1>#{author.name} #{author.surname}</h1>\n",
      "<p>#{born} - #{died}</p>\n",
      "<img src='#{image}' width='110px' />\"\n",
      "end\n",
      "\n",
      "def display_books(book)\n",
      "  \"<ul><img src='#{book.image_url}' width='50px'/>#{book.title} - #{book.published}</ul>\"\n",
      "end\n",
      "\n",
      "\n",
      "document = ''\n",
      "\n",
      "authors = Author.all\n",
      "\n",
      "authors.each do |author|\n",
      "  document += display_author(author)\n",
      "  author.books.each do |book|\n",
      "    document += display_books(book)\n",
      "  end\n",
      "end\n",
      "\n",
      "IRuby.html document"
     ],
     "language": "python",
     "metadata": {},
     "outputs": [
      {
       "html": [
        "<h1>Orson Scott Card</h1>\n",
        "<p>24.08.1951 - </p>\n",
        "<img src='http://commons.wikimedia.org/wiki/Special:FilePath/Orson_Scott_Card_at_BYU_Symposium_20080216_closeup.jpg?width=300' width='110px' /><ul><img src='' width='50px'/>V\u00e9gj\u00e1t\u00e9k (reg\u00e9ny) - </ul><h1>Andrzej Sapkowski</h1>\n",
        "<p>21.06.1948 - </p>\n",
        "<img src='http://commons.wikimedia.org/wiki/Special:FilePath/Sapkowski.jpg?width=300' width='110px' /><ul><img src='' width='50px'/>Pani Jeziora (powie\u015b\u0107) - 1999</ul><h1>Jack London</h1>\n",
        "<p>12.01.1876 - 22.11.1916</p>\n",
        "<img src='http://commons.wikimedia.org/wiki/Special:FilePath/JackLondon02.jpeg?width=300' width='110px' /><ul><img src='' width='50px'/>Bellew Zawierucha - 1912</ul><h1>Henning Mankell</h1>\n",
        "<p>03.02.1948 - </p>\n",
        "<img src='http://commons.wikimedia.org/wiki/Special:FilePath/Henning_Mankell_3_2011_Shankbone.jpg?width=300' width='110px' /><ul><img src='' width='50px'/>Fa\u0142szywy trop (powie\u015b\u0107) - 1995</ul><h1>Stanis\u0142aw Lem</h1>\n",
        "<p>12.09.1921 - 27.03.2006</p>\n",
        "<img src='http://commons.wikimedia.org/wiki/Special:FilePath/Stanislaw_Lem_2.jpg?width=300' width='110px' /><ul><img src='' width='50px'/>Bajki robot\u00f3w - 1964</ul><ul><img src='http://commons.wikimedia.org/wiki/Special:FilePath/Solaris,_various_editions_02.jpg?width=300' width='50px'/>Solaris (powie\u015b\u0107) - 1961</ul><ul><img src='' width='50px'/>Bezsenno\u015b\u0107 (zbi\u00f3r opowiada\u0144) - 1971</ul><ul><img src='' width='50px'/>G\u0142os Pana - 1968</ul><ul><img src='' width='50px'/>Inwazja z Aldebarana (zbi\u00f3r opowiada\u0144) - 1959</ul><ul><img src='' width='50px'/>Katar (powie\u015b\u0107) - 1976</ul><ul><img src='' width='50px'/>Ksi\u0119ga robot\u00f3w - 1961</ul><ul><img src='' width='50px'/>Maska (zbi\u00f3r dzie\u0142) - 1976</ul><ul><img src='' width='50px'/>Niezwyci\u0119\u017cony i inne opowiadania - 1964</ul><ul><img src='' width='50px'/>Noc ksi\u0119\u017cycowa - 1963</ul><ul><img src='' width='50px'/>Pami\u0119tnik znaleziony w wannie - 1961</ul><ul><img src='' width='50px'/>Polowanie (zbi\u00f3r opowiada\u0144) - 1965</ul><ul><img src='' width='50px'/>Powt\u00f3rka (zbi\u00f3r dzie\u0142) - 1979</ul><ul><img src='' width='50px'/>Po\u017cytek ze smoka - 1993</ul><ul><img src='' width='50px'/>Rasa drapie\u017cc\u00f3w. Teksty ostatnie - 2006</ul><ul><img src='' width='50px'/>Sezam i inne opowiadania - 1954</ul><ul><img src='' width='50px'/>Summa technologiae - 1964</ul><ul><img src='' width='50px'/>Wizja lokalna (powie\u015b\u0107) - 1982</ul><h1>Antoni Go\u0142ubiew</h1>\n",
        "<p>25.02.1907 - 27.06.1979</p>\n",
        "<img src='http://commons.wikimedia.org/wiki/Special:FilePath/Antoni_Golubiew.jpg?width=300' width='110px' /><ul><img src='' width='50px'/>Boles\u0142aw Chrobry (powie\u015b\u0107) - 1947</ul><h1>Miko\u0142aj Kopernik</h1>\n",
        "<p>19.02.1473 - 24.05.1543</p>\n",
        "<img src='http://commons.wikimedia.org/wiki/Special:FilePath/Nikolaus_Kopernikus.jpg?width=300' width='110px' /><ul><img src='' width='50px'/>De revolutionibus orbium coelestium - 1543</ul><h1>Maria Franciszka Koz\u0142owska</h1>\n",
        "<p>27.05.1862 - </p>\n",
        "<img src='http://commons.wikimedia.org/wiki/Special:FilePath/Mateczk_Koz\u0142owska.JPG?width=300' width='110px' /><ul><img src='' width='50px'/>Dzie\u0142o Wielkiego Mi\u0142osierdzia - 1922</ul><h1>George Orwell</h1>\n",
        "<p>25.06.1903 - 21.01.1950</p>\n",
        "<img src='http://commons.wikimedia.org/wiki/Special:FilePath/GeoreOrwell.jpg?width=300' width='110px' /><ul><img src='http://commons.wikimedia.org/wiki/Special:FilePath/Animalism_flag.svg?width=300' width='50px'/>Folwark zwierz\u0119cy - 1945</ul><ul><img src='' width='50px'/>Droga na molo w Wigan - 1937</ul><h1>William Szekspir</h1>\n",
        "<p>23.04.1564 - 03.05.1616</p>\n",
        "<img src='http://commons.wikimedia.org/wiki/Special:FilePath/Shakespeare.jpg?width=300' width='110px' /><ul><img src='http://commons.wikimedia.org/wiki/Special:FilePath/Hamlet_quarto_3rd.jpg?width=300' width='50px'/>Hamlet - </ul><ul><img src='http://commons.wikimedia.org/wiki/Special:FilePath/Romeo_and_juliet_brown.jpg?width=300' width='50px'/>Romeo i Julia - 1597</ul><ul><img src='http://commons.wikimedia.org/wiki/Special:FilePath/MND_title_page.jpg?width=300' width='50px'/>Sen nocy letniej - 1600</ul><h1>J. K. Rowling</h1>\n",
        "<p>31.07.1965 - </p>\n",
        "<img src='http://commons.wikimedia.org/wiki/Special:FilePath/J._K._Rowling_2010.jpg?width=300' width='110px' /><ul><img src='http://commons.wikimedia.org/wiki/Special:FilePath/Harry_Potter_wordmark.svg?width=300' width='50px'/>Harry Potter - 1997</ul><h1>John Ronald Reuel Tolkien</h1>\n",
        "<p>03.01.1892 - 02.09.1973</p>\n",
        "<img src='http://commons.wikimedia.org/wiki/Special:FilePath/Tolkien_1916.jpg?width=300' width='110px' /><ul><img src='' width='50px'/>Hobbit, czyli tam i z powrotem - 1937</ul><ul><img src='http://commons.wikimedia.org/wiki/Special:FilePath/Silmarrillion,_Just_under_the_Cover.jpg?width=300' width='50px'/>Silmarillion - 1977</ul><ul><img src='http://commons.wikimedia.org/wiki/Special:FilePath/Unico_Anello.png?width=300' width='50px'/>W\u0142adca Pier\u015bcieni - 1954</ul><h1>Aleksander Dumas (ojciec)</h1>\n",
        "<p>24.07.1802 - 05.12.1870</p>\n",
        "<img src='http://commons.wikimedia.org/wiki/Special:FilePath/Dumas_by_Nadar,_1855.jpg?width=300' width='110px' /><ul><img src='http://commons.wikimedia.org/wiki/Special:FilePath/Louis_Fran\u00e7ais-Dant\u00e8s_sur_son_rocher.jpg?width=300' width='50px'/>Hrabia Monte Christo - 1844</ul><h1>Tadeusz Do\u0142\u0119ga-Mostowicz</h1>\n",
        "<p>10.08.1898 - 20.09.1939</p>\n",
        "<img src='http://commons.wikimedia.org/wiki/Special:FilePath/Tadeusz_Dolega-Mostowicz.jpg?width=300' width='110px' /><ul><img src='' width='50px'/>Kariera Nikodema Dyzmy - 1932</ul><h1>Henryk Sienkiewicz</h1>\n",
        "<p>05.05.1846 - 15.11.1916</p>\n",
        "<img src='http://commons.wikimedia.org/wiki/Special:FilePath/Henryk_Sienkiewicz.PNG?width=300' width='110px' /><ul><img src='http://commons.wikimedia.org/wiki/Special:FilePath/PL_Henryk_Sienkiewicz-Krzy\u017cacy_0005.jpeg?width=300' width='50px'/>Krzy\u017cacy (powie\u015b\u0107) - 1900</ul><ul><img src='http://commons.wikimedia.org/wiki/Special:FilePath/Podbipieta.JPG?width=300' width='50px'/>Ogniem i mieczem - 1884</ul><ul><img src='http://commons.wikimedia.org/wiki/Special:FilePath/Rzym_popiersie_Sienkiewicza_w_kosciele_Domine_Quo_Vadis.JPG?width=300' width='50px'/>Quo vadis - 1896</ul><h1>Vladimir Nabokov</h1>\n",
        "<p>22.04.1899 - 02.07.1977</p>\n",
        "<img src='http://commons.wikimedia.org/wiki/Special:FilePath/Monument_Nabokov_Montreux_23.12.2006.jpg?width=300' width='110px' /><ul><img src='' width='50px'/>Lolita - 1955</ul><h1>Adolf Hitler</h1>\n",
        "<p>20.04.1889 - 30.04.1945</p>\n",
        "<img src='http://commons.wikimedia.org/wiki/Special:FilePath/Hitler_portrait_crop.jpg?width=300' width='110px' /><ul><img src='http://commons.wikimedia.org/wiki/Special:FilePath/Landsberg.Jail.jpg?width=300' width='50px'/>Mein Kampf - 1925</ul><h1>Eliza Orzeszkowa</h1>\n",
        "<p>06.06.1841 - 18.05.1910</p>\n",
        "<img src='http://commons.wikimedia.org/wiki/Special:FilePath/Eliza_Orzeszkowa.PNG?width=300' width='110px' /><ul><img src='http://commons.wikimedia.org/wiki/Special:FilePath/Nad_Niemnem_-_manuscript.jpg?width=300' width='50px'/>Nad Niemnem - 1888</ul><h1>Christopher Tolkien</h1>\n",
        "<p>21.11.1924 - </p>\n",
        "<img src='' width='110px' /><ul><img src='' width='50px'/>Niedoko\u0144czone opowie\u015bci - 1980</ul><h1>Benedykt Chmielowski</h1>\n",
        "<p>20.03.1700 - 07.04.1763</p>\n",
        "<img src='http://commons.wikimedia.org/wiki/Special:FilePath/POL_COA_Na\u0142\u0119cz.svg?width=300' width='110px' /><ul><img src='http://commons.wikimedia.org/wiki/Special:FilePath/Nowe_ateny1.jpg?width=300' width='50px'/>Nowe Ateny - 1745</ul><h1>Aldous Huxley</h1>\n",
        "<p>26.07.1894 - 22.11.1963</p>\n",
        "<img src='http://commons.wikimedia.org/wiki/Special:FilePath/Aldous_Huxley.JPG?width=300' width='110px' /><ul><img src='' width='50px'/>Nowy wspania\u0142y \u015bwiat - 1932</ul><h1>Honor\u00e9 de Balzac</h1>\n",
        "<p>20.05.1799 - 18.08.1850</p>\n",
        "<img src='http://commons.wikimedia.org/wiki/Special:FilePath/HBalzac.jpg?width=300' width='110px' /><ul><img src='http://commons.wikimedia.org/wiki/Special:FilePath/Father_Goriot_by_H._Daumier_(1842).JPG?width=300' width='50px'/>Ojciec Goriot - 1835</ul><h1>Franz Kafka</h1>\n",
        "<p>03.07.1883 - 03.06.1924</p>\n",
        "<img src='http://commons.wikimedia.org/wiki/Special:FilePath/Kafka1906.jpg?width=300' width='110px' /><ul><img src='http://commons.wikimedia.org/wiki/Special:FilePath/Kafka_Der_Prozess_1925.jpg?width=300' width='50px'/>Proces (powie\u015b\u0107) - 1925</ul><h1>Jan Kochanowski</h1>\n",
        "<p> - 22.08.1584</p>\n",
        "<img src='http://commons.wikimedia.org/wiki/Special:FilePath/Jan_Kochanowski.png?width=300' width='110px' /><ul><img src='http://commons.wikimedia.org/wiki/Special:FilePath/Kochanowski_-_Psa\u0142terz_Dawid\u00f3w_(1579).jpg?width=300' width='50px'/>Psa\u0142terz Dawid\u00f3w - 1579</ul><h1>Howard Phillips Lovecraft</h1>\n",
        "<p>20.08.1890 - 15.03.1937</p>\n",
        "<img src='http://commons.wikimedia.org/wiki/Special:FilePath/Howard_Phillips_Lovecraft_in_1915.jpg?width=300' width='110px' /><ul><img src='' width='50px'/>Zew Cthulhu (opowiadanie) - 1928</ul><h1>Karol Olgierd Borchardt</h1>\n",
        "<p>25.03.1905 - 20.05.1986</p>\n",
        "<img src='http://commons.wikimedia.org/wiki/Special:FilePath/Karol_Olgierd_Borchardt's_house_in_Gdynia.jpg?width=300' width='110px' /><ul><img src='' width='50px'/>Znaczy Kapitan - 1960</ul><h1>Lew To\u0142stoj</h1>\n",
        "<p>09.09.1828 - 20.11.1910</p>\n",
        "<img src='http://commons.wikimedia.org/wiki/Special:FilePath/Ilya_Efimovich_Repin_(1844-1930)_-_Portrait_of_Leo_Tolstoy_(1887).jpg?width=300' width='110px' /><ul><img src='http://commons.wikimedia.org/wiki/Special:FilePath/AnnaKareninaTitle.jpg?width=300' width='50px'/>Anna Karenina - 1877</ul><ul><img src='http://commons.wikimedia.org/wiki/Special:FilePath/War-and-peace_1873.gif?width=300' width='50px'/>Wojna i pok\u00f3j - 1865</ul><h1>Boris Akunin</h1>\n",
        "<p>20.05.1956 - </p>\n",
        "<img src='http://commons.wikimedia.org/wiki/Special:FilePath/Boris_Akunin_2012.jpg?width=300' width='110px' /><ul><img src='' width='50px'/>Azazel (powie\u015b\u0107) - 1998</ul><ul><img src='' width='50px'/>Dekorator - 1998</ul><ul><img src='' width='50px'/>Diamentowa karoca - 2003</ul><ul><img src='' width='50px'/>Gambit turecki - 1998</ul><ul><img src='' width='50px'/>Kochanek \u015amierci - 2001</ul><ul><img src='' width='50px'/>Kochanka \u015amierci - 2001</ul><ul><img src='' width='50px'/>Koronacja (powie\u015b\u0107) - 1999</ul><ul><img src='' width='50px'/>Lewiatan (powie\u015b\u0107) - 1998</ul><ul><img src='' width='50px'/>Radca stanu (powie\u015b\u0107) - 1998</ul><ul><img src='' width='50px'/>Walet pikowy (powie\u015b\u0107) - 1998</ul><ul><img src='' width='50px'/>\u015amier\u0107 Achillesa - 1998</ul><h1>Janusz Zajdel</h1>\n",
        "<p>15.08.1938 - 19.07.1985</p>\n",
        "<img src='http://commons.wikimedia.org/wiki/Special:FilePath/Janusz_A_Zajdel.jpg?width=300' width='110px' /><ul><img src='' width='50px'/>Ca\u0142a prawda o planecie Ksi - 1983</ul><h1>Jan Pawe\u0142 II</h1>\n",
        "<p>18.05.1920 - 02.04.2005</p>\n",
        "<img src='http://commons.wikimedia.org/wiki/Special:FilePath/John_Paul_II_Medal_of_Freedom_2004.jpg?width=300' width='110px' /><ul><img src='http://commons.wikimedia.org/wiki/Special:FilePath/John_paul_2_coa.svg?width=300' width='50px'/>Dives in misericordia - 1980</ul><ul><img src='http://commons.wikimedia.org/wiki/Special:FilePath/John_paul_2_coa.svg?width=300' width='50px'/>Slavorum apostoli - 1985</ul><ul><img src='http://commons.wikimedia.org/wiki/Special:FilePath/John_paul_2_coa.svg?width=300' width='50px'/>Ut unum sint - 1995</ul><ul><img src='http://commons.wikimedia.org/wiki/Special:FilePath/John_paul_2_coa.svg?width=300' width='50px'/>Veritatis splendor - 1993</ul><h1>Isaac Asimov</h1>\n",
        "<p>04.10.1919 - 06.04.1992</p>\n",
        "<img src='http://commons.wikimedia.org/wiki/Special:FilePath/Isaac.Asimov01.jpg?width=300' width='110px' /><ul><img src='' width='50px'/>Druga Fundacja - 1953</ul><ul><img src='' width='50px'/>Fundacja (powie\u015b\u0107) - 1951</ul><ul><img src='' width='50px'/>Fundacja i Imperium - 1952</ul><ul><img src='' width='50px'/>Preludium Fundacji - 1988</ul><h1>Ilja Ilf</h1>\n",
        "<p>15.10.1897 - 13.04.1937</p>\n",
        "<img src='http://commons.wikimedia.org/wiki/Special:FilePath/Ilya_Ilf.jpg?width=300' width='110px' /><ul><img src='http://commons.wikimedia.org/wiki/Special:FilePath/Ostap_Bender_Monument_in_Kharkiv.jpg?width=300' width='50px'/>Dwana\u015bcie krzese\u0142 - 1928</ul><h1>Jewgienij Pietrow (pisarz)</h1>\n",
        "<p>13.12.1903 - 02.07.1942</p>\n",
        "<img src='http://commons.wikimedia.org/wiki/Special:FilePath/Yevgeny_Petrov.jpg?width=300' width='110px' /><h1>Gabriela Zapolska</h1>\n",
        "<p>30.03.1857 - 17.12.1921</p>\n",
        "<img src='http://commons.wikimedia.org/wiki/Special:FilePath/Gabriela_Zapolska.PNG?width=300' width='110px' /><ul><img src='' width='50px'/>Ich czworo - 1907</ul><h1>Jeffery Deaver</h1>\n",
        "<p>06.05.1950 - </p>\n",
        "<img src='http://commons.wikimedia.org/wiki/Special:FilePath/Jeffery_Deaver_October_2006.jpg?width=300' width='110px' /><ul><img src='' width='50px'/>Kamienna ma\u0142pa - 2002</ul><ul><img src='' width='50px'/>Mag (powie\u015b\u0107 J. Deavera) - 2003</ul><h1>Terry Pratchett</h1>\n",
        "<p>28.04.1948 - </p>\n",
        "<img src='http://commons.wikimedia.org/wiki/Special:FilePath/Terry_Pratchett,_September_2009_1.jpg?width=300' width='110px' /><ul><img src='' width='50px'/>Kot w stanie czystym - 1989</ul><h1>Clive Staples Lewis</h1>\n",
        "<p>29.11.1898 - 22.11.1963</p>\n",
        "<img src='http://commons.wikimedia.org/wiki/Special:FilePath/Statue_of_C.S._Lewis,_Belfast.jpg?width=300' width='110px' /><ul><img src='' width='50px'/>Ko\u0144 i jego ch\u0142opiec - 1954</ul><h1>Adam Mickiewicz</h1>\n",
        "<p>24.12.1798 - 26.11.1855</p>\n",
        "<img src='http://commons.wikimedia.org/wiki/Special:FilePath/Adam_Mickiewicz_by_Jan_Mieczkowski.jpg?width=300' width='110px' /><ul><img src='http://commons.wikimedia.org/wiki/Special:FilePath/PL_Ksi\u0119gi_narodu_polskiego_i_pielgrzymstwa_polskiego_008.png?width=300' width='50px'/>Ksi\u0119gi narodu polskiego i pielgrzymstwa polskiego - 1832</ul><h1>Andrzej Pilipiuk</h1>\n",
        "<p>20.03.1974 - </p>\n",
        "<img src='http://commons.wikimedia.org/wiki/Special:FilePath/Andrzej_Pilipiuk-Polcon2006.jpg?width=300' width='110px' /><ul><img src='' width='50px'/>Kuzynki - 2003</ul><h1>Ursula K. Le Guin</h1>\n",
        "<p>21.10.1929 - </p>\n",
        "<img src='http://commons.wikimedia.org/wiki/Special:FilePath/UrsulaLeGuin.01.jpg?width=300' width='110px' /><ul><img src='' width='50px'/>Lewa r\u0119ka ciemno\u015bci - 1969</ul><ul><img src='' width='50px'/>Czarnoksi\u0119\u017cnik z Archipelagu - 1968</ul><h1>Iwan Turgieniew</h1>\n",
        "<p>09.11.1818 - 03.09.1883</p>\n",
        "<img src='http://commons.wikimedia.org/wiki/Special:FilePath/Turgenev_by_Repin.jpg?width=300' width='110px' /><ul><img src='http://commons.wikimedia.org/wiki/Special:FilePath/Otsy1880.jpg?width=300' width='50px'/>Ojcowie i dzieci - 0</ul><h1>George R. R. Martin</h1>\n",
        "<p>20.09.1948 - </p>\n",
        "<img src='http://commons.wikimedia.org/wiki/Special:FilePath/George_R_R_Martin_2011_Shankbone.JPG?width=300' width='110px' /><ul><img src='' width='50px'/>Pie\u015b\u0144 Lodu i Ognia - 1996</ul><h1>Ryszard Kapu\u015bci\u0144ski</h1>\n",
        "<p>04.03.1932 - 23.01.2007</p>\n",
        "<img src='http://commons.wikimedia.org/wiki/Special:FilePath/Ryszard_Kapuscinski_by_Kubik_17.05.1997_-_cropped.jpg?width=300' width='110px' /><ul><img src='' width='50px'/>Podr\u00f3\u017ce z Herodotem - 2004</ul><h1>Lucy Maud Montgomery</h1>\n",
        "<p>30.11.1874 - 24.04.1942</p>\n",
        "<img src='http://commons.wikimedia.org/wiki/Special:FilePath/Lucy_Maud_Montgomery.JPG?width=300' width='110px' /><ul><img src='' width='50px'/>Rilla ze Z\u0142otego Brzegu - 1921</ul><h1>Dorota Terakowska</h1>\n",
        "<p>30.08.1938 - 04.01.2004</p>\n",
        "<img src='http://commons.wikimedia.org/wiki/Special:FilePath/Dorota_Terakowska_grob.jpg?width=300' width='110px' /><ul><img src='' width='50px'/>Tam gdzie spadaj\u0105 anio\u0142y - 1998</ul><h1>Alfred Szklarski</h1>\n",
        "<p>21.01.1912 - 09.04.1992</p>\n",
        "<img src='http://commons.wikimedia.org/wiki/Special:FilePath/Katowice_-_pomnik_Alfred_Szklarski.JPG?width=300' width='110px' /><ul><img src='' width='50px'/>Tomek u \u017ar\u00f3de\u0142 Amazonki - 1967</ul><ul><img src='' width='50px'/>Tomek w Gran Chaco - 1987</ul><ul><img src='' width='50px'/>Tomek w grobowcach faraon\u00f3w - 1994</ul><h1>Adam Zelga</h1>\n",
        "<p>11.03.1953 - </p>\n",
        "<img src='' width='110px' /><h1>Rafa\u0142 A. Ziemkiewicz</h1>\n",
        "<p>13.09.1964 - </p>\n",
        "<img src='http://commons.wikimedia.org/wiki/Special:FilePath/Rafa\u0142_Ziemkiewicz.jpg?width=300' width='110px' /><ul><img src='' width='50px'/>Walc stulecia - 1998</ul><h1>Anne Rice</h1>\n",
        "<p>04.10.1941 - </p>\n",
        "<img src='http://commons.wikimedia.org/wiki/Special:FilePath/Anne_Rice.jpg?width=300' width='110px' /><ul><img src='' width='50px'/>Wampir Lestat - 1985</ul><h1>Aleksander Majkowski</h1>\n",
        "<p>17.07.1876 - 10.02.1938</p>\n",
        "<img src='http://commons.wikimedia.org/wiki/Special:FilePath/POL_Polonia_Restituta_Oficerski_BAR.svg?width=300' width='110px' /><ul><img src='' width='50px'/>\u017bycie i przygody Remusa - 1938</ul><h1>Ian Fleming</h1>\n",
        "<p>28.05.1908 - 12.08.1964</p>\n",
        "<img src='http://commons.wikimedia.org/wiki/Special:FilePath/For_Your_Eyes_Only.jpg?width=300' width='110px' /><ul><img src='' width='50px'/>Casino Royale (powie\u015b\u0107) - 1953</ul><h1>Gene Wolfe</h1>\n",
        "<p>07.05.1931 - </p>\n",
        "<img src='http://commons.wikimedia.org/wiki/Special:FilePath/Gene_Wolfe,_2005.png?width=300' width='110px' /><ul><img src='' width='50px'/>Cie\u0144 kata - 1980</ul><h1>Paulo Coelho</h1>\n",
        "<p>24.08.1947 - </p>\n",
        "<img src='http://commons.wikimedia.org/wiki/Special:FilePath/Paulo_Coelho_nrkbeta.jpg?width=300' width='110px' /><ul><img src='' width='50px'/>Czarownica z Portobello - 2006</ul><h1>Tom Clancy</h1>\n",
        "<p>12.04.1947 - 01.10.2013</p>\n",
        "<img src='http://commons.wikimedia.org/wiki/Special:FilePath/Tom_Clancy_at_Burns_Library_cropped.jpg?width=300' width='110px' /><ul><img src='' width='50px'/>Czas patriot\u00f3w (powie\u015b\u0107) - 1987</ul><h1>Adam Mickiewicz</h1>\n",
        "<p> - </p>\n",
        "<img src='' width='110px' /><h1>Juliusz S\u0142owacki</h1>\n",
        "<p> - </p>\n",
        "<img src='' width='110px' /><h1>Henryk Sienkiewicz</h1>\n",
        "<p> - </p>\n",
        "<img src='' width='110px' /><h1>Eliza Orzeszkowa</h1>\n",
        "<p> - </p>\n",
        "<img src='' width='110px' /><h1>Adam Mickiewicz</h1>\n",
        "<p> - </p>\n",
        "<img src='' width='110px' />"
       ],
       "metadata": {},
       "output_type": "pyout",
       "prompt_number": 75,
       "text": [
        "\"<h1>Orson Scott Card</h1>\\n<p>24.08.1951 - </p>\\n<img src='http://commons.wikimedia.org/wiki/Special:FilePath/Orson_Scott_Card_at_BYU_Symposium_20080216_closeup.jpg?width=300' width='110px' /><ul><img src='' width='50px'/>V\u00e9gj\u00e1t\u00e9k (reg\u00e9ny) - </ul><h1>Andrzej Sapkowski</h1>\\n<p>21.06.1948 - </p>\\n<img src='http://commons.wikimedia.org/wiki/Special:FilePath/Sapkowski.jpg?width=300' width='110px' /><ul><img src='' width='50px'/>Pani Jeziora (powie\u015b\u0107) - 1999</ul><h1>Jack London</h1>\\n<p>12.01.1876 - 22.11.1916</p>\\n<img src='http://commons.wikimedia.org/wiki/Special:FilePath/JackLondon02.jpeg?width=300' width='110px' /><ul><img src='' width='50px'/>Bellew Zawierucha - 1912</ul><h1>Henning Mankell</h1>\\n<p>03.02.1948 - </p>\\n<img src='http://commons.wikimedia.org/wiki/Special:FilePath/Henning_Mankell_3_2011_Shankbone.jpg?width=300' width='110px' /><ul><img src='' width='50px'/>Fa\u0142szywy trop (powie\u015b\u0107) - 1995</ul><h1>Stanis\u0142aw Lem</h1>\\n<p>12.09.1921 - 27.03.2006</p>\\n<img src='http://commons.wikimedia.org/wiki/Special:FilePath/Stanislaw_Lem_2.jpg?width=300' width='110px' /><ul><img src='' width='50px'/>Bajki robot\u00f3w - 1964</ul><ul><img src='http://commons.wikimedia.org/wiki/Special:FilePath/Solaris,_various_editions_02.jpg?width=300' width='50px'/>Solaris (powie\u015b\u0107) - 1961</ul><ul><img src='' width='50px'/>Bezsenno\u015b\u0107 (zbi\u00f3r opowiada\u0144) - 1971</ul><ul><img src='' width='50px'/>G\u0142os Pana - 1968</ul><ul><img src='' width='50px'/>Inwazja z Aldebarana (zbi\u00f3r opowiada\u0144) - 1959</ul><ul><img src='' width='50px'/>Katar (powie\u015b\u0107) - 1976</ul><ul><img src='' width='50px'/>Ksi\u0119ga robot\u00f3w - 1961</ul><ul><img src='' width='50px'/>Maska (zbi\u00f3r dzie\u0142) - 1976</ul><ul><img src='' width='50px'/>Niezwyci\u0119\u017cony i inne opowiadania - 1964</ul><ul><img src='' width='50px'/>Noc ksi\u0119\u017cycowa - 1963</ul><ul><img src='' width='50px'/>Pami\u0119tnik znaleziony w wannie - 1961</ul><ul><img src='' width='50px'/>Polowanie (zbi\u00f3r opowiada\u0144) - 1965</ul><ul><img src='' width='50px'/>Powt\u00f3rka (zbi\u00f3r dzie\u0142) - 1979</ul><ul><img src='' width='50px'/>Po\u017cytek ze smoka - 1993</ul><ul><img src='' width='50px'/>Rasa drapie\u017cc\u00f3w. Teksty ostatnie - 2006</ul><ul><img src='' width='50px'/>Sezam i inne opowiadania - 1954</ul><ul><img src='' width='50px'/>Summa technologiae - 1964</ul><ul><img src='' width='50px'/>Wizja lokalna (powie\u015b\u0107) - 1982</ul><h1>Antoni Go\u0142ubiew</h1>\\n<p>25.02.1907 - 27.06.1979</p>\\n<img src='http://commons.wikimedia.org/wiki/Special:FilePath/Antoni_Golubiew.jpg?width=300' width='110px' /><ul><img src='' width='50px'/>Boles\u0142aw Chrobry (powie\u015b\u0107) - 1947</ul><h1>Miko\u0142aj Kopernik</h1>\\n<p>19.02.1473 - 24.05.1543</p>\\n<img src='http://commons.wikimedia.org/wiki/Special:FilePath/Nikolaus_Kopernikus.jpg?width=300' width='110px' /><ul><img src='' width='50px'/>De revolutionibus orbium coelestium - 1543</ul><h1>Maria Franciszka Koz\u0142owska</h1>\\n<p>27.05.1862 - </p>\\n<img src='http://commons.wikimedia.org/wiki/Special:FilePath/Mateczk_Koz\u0142owska.JPG?width=300' width='110px' /><ul><img src='' width='50px'/>Dzie\u0142o Wielkiego Mi\u0142osierdzia - 1922</ul><h1>George Orwell</h1>\\n<p>25.06.1903 - 21.01.1950</p>\\n<img src='http://commons.wikimedia.org/wiki/Special:FilePath/GeoreOrwell.jpg?width=300' width='110px' /><ul><img src='http://commons.wikimedia.org/wiki/Special:FilePath/Animalism_flag.svg?width=300' width='50px'/>Folwark zwierz\u0119cy - 1945</ul><ul><img src='' width='50px'/>Droga na molo w Wigan - 1937</ul><h1>William Szekspir</h1>\\n<p>23.04.1564 - 03.05.1616</p>\\n<img src='http://commons.wikimedia.org/wiki/Special:FilePath/Shakespeare.jpg?width=300' width='110px' /><ul><img src='http://commons.wikimedia.org/wiki/Special:FilePath/Hamlet_quarto_3rd.jpg?width=300' width='50px'/>Hamlet - </ul><ul><img src='http://commons.wikimedia.org/wiki/Special:FilePath/Romeo_and_juliet_brown.jpg?width=300' width='50px'/>Romeo i Julia - 1597</ul><ul><img src='http://commons.wikimedia.org/wiki/Special:FilePath/MND_title_page.jpg?width=300' width='50px'/>Sen nocy letniej - 1600</ul><h1>J. K. Rowling</h1>\\n<p>31.07.1965 - </p>\\n<img src='http://commons.wikimedia.org/wiki/Special:FilePath/J._K._Rowling_2010.jpg?width=300' width='110px' /><ul><img src='http://commons.wikimedia.org/wiki/Special:FilePath/Harry_Potter_wordmark.svg?width=300' width='50px'/>Harry Potter - 1997</ul><h1>John Ronald Reuel Tolkien</h1>\\n<p>03.01.1892 - 02.09.1973</p>\\n<img src='http://commons.wikimedia.org/wiki/Special:FilePath/Tolkien_1916.jpg?width=300' width='110px' /><ul><img src='' width='50px'/>Hobbit, czyli tam i z powrotem - 1937</ul><ul><img src='http://commons.wikimedia.org/wiki/Special:FilePath/Silmarrillion,_Just_under_the_Cover.jpg?width=300' width='50px'/>Silmarillion - 1977</ul><ul><img src='http://commons.wikimedia.org/wiki/Special:FilePath/Unico_Anello.png?width=300' width='50px'/>W\u0142adca Pier\u015bcieni - 1954</ul><h1>Aleksander Dumas (ojciec)</h1>\\n<p>24.07.1802 - 05.12.1870</p>\\n<img src='http://commons.wikimedia.org/wiki/Special:FilePath/Dumas_by_Nadar,_1855.jpg?width=300' width='110px' /><ul><img src='http://commons.wikimedia.org/wiki/Special:FilePath/Louis_Fran\u00e7ais-Dant\u00e8s_sur_son_rocher.jpg?width=300' width='50px'/>Hrabia Monte Christo - 1844</ul><h1>Tadeusz Do\u0142\u0119ga-Mostowicz</h1>\\n<p>10.08.1898 - 20.09.1939</p>\\n<img src='http://commons.wikimedia.org/wiki/Special:FilePath/Tadeusz_Dolega-Mostowicz.jpg?width=300' width='110px' /><ul><img src='' width='50px'/>Kariera Nikodema Dyzmy - 1932</ul><h1>Henryk Sienkiewicz</h1>\\n<p>05.05.1846 - 15.11.1916</p>\\n<img src='http://commons.wikimedia.org/wiki/Special:FilePath/Henryk_Sienkiewicz.PNG?width=300' width='110px' /><ul><img src='http://commons.wikimedia.org/wiki/Special:FilePath/PL_Henryk_Sienkiewicz-Krzy\u017cacy_0005.jpeg?width=300' width='50px'/>Krzy\u017cacy (powie\u015b\u0107) - 1900</ul><ul><img src='http://commons.wikimedia.org/wiki/Special:FilePath/Podbipieta.JPG?width=300' width='50px'/>Ogniem i mieczem - 1884</ul><ul><img src='http://commons.wikimedia.org/wiki/Special:FilePath/Rzym_popiersie_Sienkiewicza_w_kosciele_Domine_Quo_Vadis.JPG?width=300' width='50px'/>Quo vadis - 1896</ul><h1>Vladimir Nabokov</h1>\\n<p>22.04.1899 - 02.07.1977</p>\\n<img src='http://commons.wikimedia.org/wiki/Special:FilePath/Monument_Nabokov_Montreux_23.12.2006.jpg?width=300' width='110px' /><ul><img src='' width='50px'/>Lolita - 1955</ul><h1>Adolf Hitler</h1>\\n<p>20.04.1889 - 30.04.1945</p>\\n<img src='http://commons.wikimedia.org/wiki/Special:FilePath/Hitler_portrait_crop.jpg?width=300' width='110px' /><ul><img src='http://commons.wikimedia.org/wiki/Special:FilePath/Landsberg.Jail.jpg?width=300' width='50px'/>Mein Kampf - 1925</ul><h1>Eliza Orzeszkowa</h1>\\n<p>06.06.1841 - 18.05.1910</p>\\n<img src='http://commons.wikimedia.org/wiki/Special:FilePath/Eliza_Orzeszkowa.PNG?width=300' width='110px' /><ul><img src='http://commons.wikimedia.org/wiki/Special:FilePath/Nad_Niemnem_-_manuscript.jpg?width=300' width='50px'/>Nad Niemnem - 1888</ul><h1>Christopher Tolkien</h1>\\n<p>21.11.1924 - </p>\\n<img src='' width='110px' /><ul><img src='' width='50px'/>Niedoko\u0144czone opowie\u015bci - 1980</ul><h1>Benedykt Chmielowski</h1>\\n<p>20.03.1700 - 07.04.1763</p>\\n<img src='http://commons.wikimedia.org/wiki/Special:FilePath/POL_COA_Na\u0142\u0119cz.svg?width=300' width='110px' /><ul><img src='http://commons.wikimedia.org/wiki/Special:FilePath/Nowe_ateny1.jpg?width=300' width='50px'/>Nowe Ateny - 1745</ul><h1>Aldous Huxley</h1>\\n<p>26.07.1894 - 22.11.1963</p>\\n<img src='http://commons.wikimedia.org/wiki/Special:FilePath/Aldous_Huxley.JPG?width=300' width='110px' /><ul><img src='' width='50px'/>Nowy wspania\u0142y \u015bwiat - 1932</ul><h1>Honor\u00e9 de Balzac</h1>\\n<p>20.05.1799 - 18.08.1850</p>\\n<img src='http://commons.wikimedia.org/wiki/Special:FilePath/HBalzac.jpg?width=300' width='110px' /><ul><img src='http://commons.wikimedia.org/wiki/Special:FilePath/Father_Goriot_by_H._Daumier_(1842).JPG?width=300' width='50px'/>Ojciec Goriot - 1835</ul><h1>Franz Kafka</h1>\\n<p>03.07.1883 - 03.06.1924</p>\\n<img src='http://commons.wikimedia.org/wiki/Special:FilePath/Kafka1906.jpg?width=300' width='110px' /><ul><img src='http://commons.wikimedia.org/wiki/Special:FilePath/Kafka_Der_Prozess_1925.jpg?width=300' width='50px'/>Proces (powie\u015b\u0107) - 1925</ul><h1>Jan Kochanowski</h1>\\n<p> - 22.08.1584</p>\\n<img src='http://commons.wikimedia.org/wiki/Special:FilePath/Jan_Kochanowski.png?width=300' width='110px' /><ul><img src='http://commons.wikimedia.org/wiki/Special:FilePath/Kochanowski_-_Psa\u0142terz_Dawid\u00f3w_(1579).jpg?width=300' width='50px'/>Psa\u0142terz Dawid\u00f3w - 1579</ul><h1>Howard Phillips Lovecraft</h1>\\n<p>20.08.1890 - 15.03.1937</p>\\n<img src='http://commons.wikimedia.org/wiki/Special:FilePath/Howard_Phillips_Lovecraft_in_1915.jpg?width=300' width='110px' /><ul><img src='' width='50px'/>Zew Cthulhu (opowiadanie) - 1928</ul><h1>Karol Olgierd Borchardt</h1>\\n<p>25.03.1905 - 20.05.1986</p>\\n<img src='http://commons.wikimedia.org/wiki/Special:FilePath/Karol_Olgierd_Borchardt's_house_in_Gdynia.jpg?width=300' width='110px' /><ul><img src='' width='50px'/>Znaczy Kapitan - 1960</ul><h1>Lew To\u0142stoj</h1>\\n<p>09.09.1828 - 20.11.1910</p>\\n<img src='http://commons.wikimedia.org/wiki/Special:FilePath/Ilya_Efimovich_Repin_(1844-1930)_-_Portrait_of_Leo_Tolstoy_(1887).jpg?width=300' width='110px' /><ul><img src='http://commons.wikimedia.org/wiki/Special:FilePath/AnnaKareninaTitle.jpg?width=300' width='50px'/>Anna Karenina - 1877</ul><ul><img src='http://commons.wikimedia.org/wiki/Special:FilePath/War-and-peace_1873.gif?width=300' width='50px'/>Wojna i pok\u00f3j - 1865</ul><h1>Boris Akunin</h1>\\n<p>20.05.1956 - </p>\\n<img src='http://commons.wikimedia.org/wiki/Special:FilePath/Boris_Akunin_2012.jpg?width=300' width='110px' /><ul><img src='' width='50px'/>Azazel (powie\u015b\u0107) - 1998</ul><ul><img src='' width='50px'/>Dekorator - 1998</ul><ul><img src='' width='50px'/>Diamentowa karoca - 2003</ul><ul><img src='' width='50px'/>Gambit turecki - 1998</ul><ul><img src='' width='50px'/>Kochanek \u015amierci - 2001</ul><ul><img src='' width='50px'/>Kochanka \u015amierci - 2001</ul><ul><img src='' width='50px'/>Koronacja (powie\u015b\u0107) - 1999</ul><ul><img src='' width='50px'/>Lewiatan (powie\u015b\u0107) - 1998</ul><ul><img src='' width='50px'/>Radca stanu (powie\u015b\u0107) - 1998</ul><ul><img src='' width='50px'/>Walet pikowy (powie\u015b\u0107) - 1998</ul><ul><img src='' width='50px'/>\u015amier\u0107 Achillesa - 1998</ul><h1>Janusz Zajdel</h1>\\n<p>15.08.1938 - 19.07.1985</p>\\n<img src='http://commons.wikimedia.org/wiki/Special:FilePath/Janusz_A_Zajdel.jpg?width=300' width='110px' /><ul><img src='' width='50px'/>Ca\u0142a prawda o planecie Ksi - 1983</ul><h1>Jan Pawe\u0142 II</h1>\\n<p>18.05.1920 - 02.04.2005</p>\\n<img src='http://commons.wikimedia.org/wiki/Special:FilePath/John_Paul_II_Medal_of_Freedom_2004.jpg?width=300' width='110px' /><ul><img src='http://commons.wikimedia.org/wiki/Special:FilePath/John_paul_2_coa.svg?width=300' width='50px'/>Dives in misericordia - 1980</ul><ul><img src='http://commons.wikimedia.org/wiki/Special:FilePath/John_paul_2_coa.svg?width=300' width='50px'/>Slavorum apostoli - 1985</ul><ul><img src='http://commons.wikimedia.org/wiki/Special:FilePath/John_paul_2_coa.svg?width=300' width='50px'/>Ut unum sint - 1995</ul><ul><img src='http://commons.wikimedia.org/wiki/Special:FilePath/John_paul_2_coa.svg?width=300' width='50px'/>Veritatis splendor - 1993</ul><h1>Isaac Asimov</h1>\\n<p>04.10.1919 - 06.04.1992</p>\\n<img src='http://commons.wikimedia.org/wiki/Special:FilePath/Isaac.Asimov01.jpg?width=300' width='110px' /><ul><img src='' width='50px'/>Druga Fundacja - 1953</ul><ul><img src='' width='50px'/>Fundacja (powie\u015b\u0107) - 1951</ul><ul><img src='' width='50px'/>Fundacja i Imperium - 1952</ul><ul><img src='' width='50px'/>Preludium Fundacji - 1988</ul><h1>Ilja Ilf</h1>\\n<p>15.10.1897 - 13.04.1937</p>\\n<img src='http://commons.wikimedia.org/wiki/Special:FilePath/Ilya_Ilf.jpg?width=300' width='110px' /><ul><img src='http://commons.wikimedia.org/wiki/Special:FilePath/Ostap_Bender_Monument_in_Kharkiv.jpg?width=300' width='50px'/>Dwana\u015bcie krzese\u0142 - 1928</ul><h1>Jewgienij Pietrow (pisarz)</h1>\\n<p>13.12.1903 - 02.07.1942</p>\\n<img src='http://commons.wikimedia.org/wiki/Special:FilePath/Yevgeny_Petrov.jpg?width=300' width='110px' /><h1>Gabriela Zapolska</h1>\\n<p>30.03.1857 - 17.12.1921</p>\\n<img src='http://commons.wikimedia.org/wiki/Special:FilePath/Gabriela_Zapolska.PNG?width=300' width='110px' /><ul><img src='' width='50px'/>Ich czworo - 1907</ul><h1>Jeffery Deaver</h1>\\n<p>06.05.1950 - </p>\\n<img src='http://commons.wikimedia.org/wiki/Special:FilePath/Jeffery_Deaver_October_2006.jpg?width=300' width='110px' /><ul><img src='' width='50px'/>Kamienna ma\u0142pa - 2002</ul><ul><img src='' width='50px'/>Mag (powie\u015b\u0107 J. Deavera) - 2003</ul><h1>Terry Pratchett</h1>\\n<p>28.04.1948 - </p>\\n<img src='http://commons.wikimedia.org/wiki/Special:FilePath/Terry_Pratchett,_September_2009_1.jpg?width=300' width='110px' /><ul><img src='' width='50px'/>Kot w stanie czystym - 1989</ul><h1>Clive Staples Lewis</h1>\\n<p>29.11.1898 - 22.11.1963</p>\\n<img src='http://commons.wikimedia.org/wiki/Special:FilePath/Statue_of_C.S._Lewis,_Belfast.jpg?width=300' width='110px' /><ul><img src='' width='50px'/>Ko\u0144 i jego ch\u0142opiec - 1954</ul><h1>Adam Mickiewicz</h1>\\n<p>24.12.1798 - 26.11.1855</p>\\n<img src='http://commons.wikimedia.org/wiki/Special:FilePath/Adam_Mickiewicz_by_Jan_Mieczkowski.jpg?width=300' width='110px' /><ul><img src='http://commons.wikimedia.org/wiki/Special:FilePath/PL_Ksi\u0119gi_narodu_polskiego_i_pielgrzymstwa_polskiego_008.png?width=300' width='50px'/>Ksi\u0119gi narodu polskiego i pielgrzymstwa polskiego - 1832</ul><h1>Andrzej Pilipiuk</h1>\\n<p>20.03.1974 - </p>\\n<img src='http://commons.wikimedia.org/wiki/Special:FilePath/Andrzej_Pilipiuk-Polcon2006.jpg?width=300' width='110px' /><ul><img src='' width='50px'/>Kuzynki - 2003</ul><h1>Ursula K. Le Guin</h1>\\n<p>21.10.1929 - </p>\\n<img src='http://commons.wikimedia.org/wiki/Special:FilePath/UrsulaLeGuin.01.jpg?width=300' width='110px' /><ul><img src='' width='50px'/>Lewa r\u0119ka ciemno\u015bci - 1969</ul><ul><img src='' width='50px'/>Czarnoksi\u0119\u017cnik z Archipelagu - 1968</ul><h1>Iwan Turgieniew</h1>\\n<p>09.11.1818 - 03.09.1883</p>\\n<img src='http://commons.wikimedia.org/wiki/Special:FilePath/Turgenev_by_Repin.jpg?width=300' width='110px' /><ul><img src='http://commons.wikimedia.org/wiki/Special:FilePath/Otsy1880.jpg?width=300' width='50px'/>Ojcowie i dzieci - 0</ul><h1>George R. R. Martin</h1>\\n<p>20.09.1948 - </p>\\n<img src='http://commons.wikimedia.org/wiki/Special:FilePath/George_R_R_Martin_2011_Shankbone.JPG?width=300' width='110px' /><ul><img src='' width='50px'/>Pie\u015b\u0144 Lodu i Ognia - 1996</ul><h1>Ryszard Kapu\u015bci\u0144ski</h1>\\n<p>04.03.1932 - 23.01.2007</p>\\n<img src='http://commons.wikimedia.org/wiki/Special:FilePath/Ryszard_Kapuscinski_by_Kubik_17.05.1997_-_cropped.jpg?width=300' width='110px' /><ul><img src='' width='50px'/>Podr\u00f3\u017ce z Herodotem - 2004</ul><h1>Lucy Maud Montgomery</h1>\\n<p>30.11.1874 - 24.04.1942</p>\\n<img src='http://commons.wikimedia.org/wiki/Special:FilePath/Lucy_Maud_Montgomery.JPG?width=300' width='110px' /><ul><img src='' width='50px'/>Rilla ze Z\u0142otego Brzegu - 1921</ul><h1>Dorota Terakowska</h1>\\n<p>30.08.1938 - 04.01.2004</p>\\n<img src='http://commons.wikimedia.org/wiki/Special:FilePath/Dorota_Terakowska_grob.jpg?width=300' width='110px' /><ul><img src='' width='50px'/>Tam gdzie spadaj\u0105 anio\u0142y - 1998</ul><h1>Alfred Szklarski</h1>\\n<p>21.01.1912 - 09.04.1992</p>\\n<img src='http://commons.wikimedia.org/wiki/Special:FilePath/Katowice_-_pomnik_Alfred_Szklarski.JPG?width=300' width='110px' /><ul><img src='' width='50px'/>Tomek u \u017ar\u00f3de\u0142 Amazonki - 1967</ul><ul><img src='' width='50px'/>Tomek w Gran Chaco - 1987</ul><ul><img src='' width='50px'/>Tomek w grobowcach faraon\u00f3w - 1994</ul><h1>Adam Zelga</h1>\\n<p>11.03.1953 - </p>\\n<img src='' width='110px' /><h1>Rafa\u0142 A. Ziemkiewicz</h1>\\n<p>13.09.1964 - </p>\\n<img src='http://commons.wikimedia.org/wiki/Special:FilePath/Rafa\u0142_Ziemkiewicz.jpg?width=300' width='110px' /><ul><img src='' width='50px'/>Walc stulecia - 1998</ul><h1>Anne Rice</h1>\\n<p>04.10.1941 - </p>\\n<img src='http://commons.wikimedia.org/wiki/Special:FilePath/Anne_Rice.jpg?width=300' width='110px' /><ul><img src='' width='50px'/>Wampir Lestat - 1985</ul><h1>Aleksander Majkowski</h1>\\n<p>17.07.1876 - 10.02.1938</p>\\n<img src='http://commons.wikimedia.org/wiki/Special:FilePath/POL_Polonia_Restituta_Oficerski_BAR.svg?width=300' width='110px' /><ul><img src='' width='50px'/>\u017bycie i przygody Remusa - 1938</ul><h1>Ian Fleming</h1>\\n<p>28.05.1908 - 12.08.1964</p>\\n<img src='http://commons.wikimedia.org/wiki/Special:FilePath/For_Your_Eyes_Only.jpg?width=300' width='110px' /><ul><img src='' width='50px'/>Casino Royale (powie\u015b\u0107) - 1953</ul><h1>Gene Wolfe</h1>\\n<p>07.05.1931 - </p>\\n<img src='http://commons.wikimedia.org/wiki/Special:FilePath/Gene_Wolfe,_2005.png?width=300' width='110px' /><ul><img src='' width='50px'/>Cie\u0144 kata - 1980</ul><h1>Paulo Coelho</h1>\\n<p>24.08.1947 - </p>\\n<img src='http://commons.wikimedia.org/wiki/Special:FilePath/Paulo_Coelho_nrkbeta.jpg?width=300' width='110px' /><ul><img src='' width='50px'/>Czarownica z Portobello - 2006</ul><h1>Tom Clancy</h1>\\n<p>12.04.1947 - 01.10.2013</p>\\n<img src='http://commons.wikimedia.org/wiki/Special:FilePath/Tom_Clancy_at_Burns_Library_cropped.jpg?width=300' width='110px' /><ul><img src='' width='50px'/>Czas patriot\u00f3w (powie\u015b\u0107) - 1987</ul><h1>Adam Mickiewicz</h1>\\n<p> - </p>\\n<img src='' width='110px' /><h1>Juliusz S\u0142owacki</h1>\\n<p> - </p>\\n<img src='' width='110px' /><h1>Henryk Sienkiewicz</h1>\\n<p> - </p>\\n<img src='' width='110px' /><h1>Eliza Orzeszkowa</h1>\\n<p> - </p>\\n<img src='' width='110px' /><h1>Adam Mickiewicz</h1>\\n<p> - </p>\\n<img src='' width='110px' />\""
       ]
      }
     ],
     "prompt_number": 75
    },
    {
     "cell_type": "code",
     "collapsed": false,
     "input": [],
     "language": "python",
     "metadata": {},
     "outputs": []
    }
   ],
   "metadata": {}
  }
 ]
}